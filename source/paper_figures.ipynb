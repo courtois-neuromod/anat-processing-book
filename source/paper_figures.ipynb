{
 "cells": [
  {
   "cell_type": "code",
   "execution_count": 1,
   "metadata": {},
   "outputs": [],
   "source": [
    "# Python imports \n",
    "from IPython.display import clear_output\n",
    "from pathlib import Path\n",
    "import numpy as np\n",
    "\n",
    "import pandas as pd\n",
    "pd.set_option('display.max_rows', None)\n",
    "pd.set_option('display.max_columns', None)\n",
    "pd.set_option('display.width', 1000)\n",
    "pd.set_option('display.colheader_justify', 'center')\n",
    "pd.set_option('display.precision', 1)\n",
    "\n",
    "# Import custom tools\n",
    "from tools.data import Data\n",
    "from tools.plot import Plot\n",
    "from tools.stats import Stats"
   ]
  },
  {
   "cell_type": "code",
   "execution_count": 2,
   "metadata": {},
   "outputs": [],
   "source": [
    "data_type = 'brain'\n",
    "release_version = 'latest'\n",
    "\n",
    "dataset = Data(data_type)\n",
    "dataset.download(release_version)"
   ]
  },
  {
   "cell_type": "code",
   "execution_count": 3,
   "metadata": {},
   "outputs": [],
   "source": [
    "dataset.load()\n",
    "fig = Plot(dataset, plot_name = 'brain-1')\n",
    "\n"
   ]
  },
  {
   "cell_type": "code",
   "execution_count": 4,
   "metadata": {},
   "outputs": [
    {
     "data": {
      "text/html": [
       "        <script type=\"text/javascript\">\n",
       "        window.PlotlyConfig = {MathJaxConfig: 'local'};\n",
       "        if (window.MathJax) {MathJax.Hub.Config({SVG: {font: \"STIX-Web\"}});}\n",
       "        if (typeof require !== 'undefined') {\n",
       "        require.undef(\"plotly\");\n",
       "        requirejs.config({\n",
       "            paths: {\n",
       "                'plotly': ['https://cdn.plot.ly/plotly-2.11.1.min']\n",
       "            }\n",
       "        });\n",
       "        require(['plotly'], function(Plotly) {\n",
       "            window._Plotly = Plotly;\n",
       "        });\n",
       "        }\n",
       "        </script>\n",
       "        "
      ]
     },
     "metadata": {},
     "output_type": "display_data"
    },
    {
     "data": {
      "application/vnd.plotly.v1+json": {
       "config": {
        "plotlyServerURL": "https://plot.ly"
       },
       "data": [
        {
         "hovertemplate": "Mean : <i> %{y: .2f} </i> sec<br><b>%{text}</b>",
         "legendgroup": "group1",
         "marker": {
          "color": "rgb(31, 119, 180)"
         },
         "mode": "markers",
         "name": "White matter",
         "showlegend": true,
         "text": [
          "Session 1",
          "Session 2",
          "Session 3",
          "Session 4",
          "Session 5",
          "Session 6",
          "Session 7",
          "Session 8",
          "Session 9",
          "Session 10"
         ],
         "type": "scatter",
         "visible": true,
         "x": [
          -0.3,
          -0.23333333333333334,
          -0.16666666666666666,
          -0.09999999999999998,
          -0.033333333333333326,
          0.033333333333333326,
          0.10000000000000003,
          0.16666666666666669,
          0.23333333333333334,
          0.3
         ],
         "xaxis": "x",
         "y": [
          0.92743,
          0.92732,
          0.91885,
          0.91725,
          0.91934,
          0.91717,
          0.92319,
          0.923,
          -100,
          -100
         ],
         "yaxis": "y"
        },
        {
         "hovertemplate": "Mean : <i> %{y: .2f} </i> sec<br><b>%{text}</b>",
         "legendgroup": "group1",
         "marker": {
          "color": "rgb(31, 119, 180)"
         },
         "mode": "markers",
         "name": "White matter",
         "showlegend": false,
         "text": [
          "Session 1",
          "Session 2",
          "Session 3",
          "Session 4",
          "Session 5",
          "Session 6",
          "Session 7",
          "Session 8",
          "Session 9",
          "Session 10"
         ],
         "type": "scatter",
         "visible": true,
         "x": [
          0.7,
          0.7666666666666666,
          0.8333333333333333,
          0.8999999999999999,
          0.9666666666666666,
          1.0333333333333332,
          1.1,
          1.1666666666666665,
          1.2333333333333334,
          1.2999999999999998
         ],
         "xaxis": "x",
         "y": [
          0.8869,
          0.88486,
          0.8771,
          0.88534,
          0.89563,
          0.89115,
          0.88244,
          0.8818,
          0.90359,
          0.88753
         ],
         "yaxis": "y"
        },
        {
         "hovertemplate": "Mean : <i> %{y: .2f} </i> sec<br><b>%{text}</b>",
         "legendgroup": "group1",
         "marker": {
          "color": "rgb(31, 119, 180)"
         },
         "mode": "markers",
         "name": "White matter",
         "showlegend": false,
         "text": [
          "Session 1",
          "Session 2",
          "Session 3",
          "Session 4",
          "Session 5",
          "Session 6",
          "Session 7",
          "Session 8",
          "Session 9",
          "Session 10"
         ],
         "type": "scatter",
         "visible": true,
         "x": [
          1.7,
          1.7666666666666666,
          1.8333333333333333,
          1.9,
          1.9666666666666666,
          2.033333333333333,
          2.1,
          2.1666666666666665,
          2.2333333333333334,
          2.3
         ],
         "xaxis": "x",
         "y": [
          0.88656,
          0.8814,
          -100,
          0.8876,
          0.87688,
          0.87225,
          0.87227,
          0.87296,
          0.88223,
          0.87596
         ],
         "yaxis": "y"
        },
        {
         "hovertemplate": "Mean : <i> %{y: .2f} </i> sec<br><b>%{text}</b>",
         "legendgroup": "group1",
         "marker": {
          "color": "rgb(31, 119, 180)"
         },
         "mode": "markers",
         "name": "White matter",
         "showlegend": false,
         "text": [
          "Session 1",
          "Session 2",
          "Session 3",
          "Session 4",
          "Session 5",
          "Session 6",
          "Session 7",
          "Session 8",
          "Session 9",
          "Session 10"
         ],
         "type": "scatter",
         "visible": true,
         "x": [
          2.7,
          2.766666666666667,
          2.8333333333333335,
          2.9000000000000004,
          2.966666666666667,
          3.0333333333333337,
          3.1,
          3.166666666666667,
          3.2333333333333334,
          3.3000000000000003
         ],
         "xaxis": "x",
         "y": [
          0.87092,
          0.86799,
          0.86731,
          0.86939,
          0.86426,
          -100,
          -100,
          -100,
          -100,
          -100
         ],
         "yaxis": "y"
        },
        {
         "hovertemplate": "Mean : <i> %{y: .2f} </i> sec<br><b>%{text}</b>",
         "legendgroup": "group1",
         "marker": {
          "color": "rgb(31, 119, 180)"
         },
         "mode": "markers",
         "name": "White matter",
         "showlegend": false,
         "text": [
          "Session 1",
          "Session 2",
          "Session 3",
          "Session 4",
          "Session 5",
          "Session 6",
          "Session 7",
          "Session 8",
          "Session 9",
          "Session 10"
         ],
         "type": "scatter",
         "visible": true,
         "x": [
          3.7,
          3.766666666666667,
          3.8333333333333335,
          3.9000000000000004,
          3.966666666666667,
          4.033333333333333,
          4.1000000000000005,
          4.166666666666667,
          4.233333333333333,
          4.3
         ],
         "xaxis": "x",
         "y": [
          0.90864,
          0.89323,
          0.89025,
          0.89258,
          0.89091,
          0.89451,
          0.89931,
          0.89165,
          -100,
          -100
         ],
         "yaxis": "y"
        },
        {
         "hovertemplate": "Mean : <i> %{y: .2f} </i> sec<br><b>%{text}</b>",
         "legendgroup": "group1",
         "marker": {
          "color": "rgb(31, 119, 180)"
         },
         "mode": "markers",
         "name": "White matter",
         "showlegend": false,
         "text": [
          "Session 1",
          "Session 2",
          "Session 3",
          "Session 4",
          "Session 5",
          "Session 6",
          "Session 7",
          "Session 8",
          "Session 9",
          "Session 10"
         ],
         "type": "scatter",
         "visible": true,
         "x": [
          4.7,
          4.766666666666667,
          4.833333333333334,
          4.9,
          4.966666666666667,
          5.033333333333333,
          5.1000000000000005,
          5.166666666666667,
          5.233333333333333,
          5.3
         ],
         "xaxis": "x",
         "y": [
          -100,
          -100,
          -100,
          0.88306,
          -100,
          0.89571,
          0.89935,
          0.88242,
          0.88717,
          -100
         ],
         "yaxis": "y"
        },
        {
         "hovertemplate": "Mean : <i> %{y: .2f} </i><br><b>%{text}</b>",
         "legendgroup": "group1",
         "marker": {
          "color": "rgb(31, 119, 180)"
         },
         "mode": "markers",
         "name": "White matter",
         "showlegend": false,
         "text": [
          "Session 1",
          "Session 2",
          "Session 3",
          "Session 4",
          "Session 5",
          "Session 6",
          "Session 7",
          "Session 8",
          "Session 9",
          "Session 10"
         ],
         "type": "scatter",
         "visible": true,
         "x": [
          -0.3,
          -0.23333333333333334,
          -0.16666666666666666,
          -0.09999999999999998,
          -0.033333333333333326,
          0.033333333333333326,
          0.10000000000000003,
          0.16666666666666669,
          0.23333333333333334,
          0.3
         ],
         "xaxis": "x2",
         "y": [
          0.99002,
          1.0075,
          1.0634,
          1.0564,
          1.0528,
          1.0497,
          1.0393,
          1.0494,
          -100,
          -100
         ],
         "yaxis": "y2"
        },
        {
         "hovertemplate": "Mean : <i> %{y: .2f} </i><br><b>%{text}</b>",
         "legendgroup": "group1",
         "marker": {
          "color": "rgb(31, 119, 180)"
         },
         "mode": "markers",
         "name": "White matter",
         "showlegend": false,
         "text": [
          "Session 1",
          "Session 2",
          "Session 3",
          "Session 4",
          "Session 5",
          "Session 6",
          "Session 7",
          "Session 8",
          "Session 9",
          "Session 10"
         ],
         "type": "scatter",
         "visible": true,
         "x": [
          0.7,
          0.7666666666666666,
          0.8333333333333333,
          0.8999999999999999,
          0.9666666666666666,
          1.0333333333333332,
          1.1,
          1.1666666666666665,
          1.2333333333333334,
          1.2999999999999998
         ],
         "xaxis": "x2",
         "y": [
          0.96902,
          0.94426,
          0.9122,
          0.87951,
          0.90239,
          0.92388,
          0.88946,
          0.92588,
          0.94319,
          0.92881
         ],
         "yaxis": "y2"
        },
        {
         "hovertemplate": "Mean : <i> %{y: .2f} </i><br><b>%{text}</b>",
         "legendgroup": "group1",
         "marker": {
          "color": "rgb(31, 119, 180)"
         },
         "mode": "markers",
         "name": "White matter",
         "showlegend": false,
         "text": [
          "Session 1",
          "Session 2",
          "Session 3",
          "Session 4",
          "Session 5",
          "Session 6",
          "Session 7",
          "Session 8",
          "Session 9",
          "Session 10"
         ],
         "type": "scatter",
         "visible": true,
         "x": [
          1.7,
          1.7666666666666666,
          1.8333333333333333,
          1.9,
          1.9666666666666666,
          2.033333333333333,
          2.1,
          2.1666666666666665,
          2.2333333333333334,
          2.3
         ],
         "xaxis": "x2",
         "y": [
          0.92755,
          0.94565,
          -100,
          0.98411,
          0.99982,
          1.0124,
          0.96606,
          0.98606,
          0.99144,
          0.97428
         ],
         "yaxis": "y2"
        },
        {
         "hovertemplate": "Mean : <i> %{y: .2f} </i><br><b>%{text}</b>",
         "legendgroup": "group1",
         "marker": {
          "color": "rgb(31, 119, 180)"
         },
         "mode": "markers",
         "name": "White matter",
         "showlegend": false,
         "text": [
          "Session 1",
          "Session 2",
          "Session 3",
          "Session 4",
          "Session 5",
          "Session 6",
          "Session 7",
          "Session 8",
          "Session 9",
          "Session 10"
         ],
         "type": "scatter",
         "visible": true,
         "x": [
          2.7,
          2.766666666666667,
          2.8333333333333335,
          2.9000000000000004,
          2.966666666666667,
          3.0333333333333337,
          3.1,
          3.166666666666667,
          3.2333333333333334,
          3.3000000000000003
         ],
         "xaxis": "x2",
         "y": [
          1.0338,
          0.94578,
          0.99394,
          0.99015,
          0.99669,
          -100,
          -100,
          -100,
          -100,
          -100
         ],
         "yaxis": "y2"
        },
        {
         "hovertemplate": "Mean : <i> %{y: .2f} </i><br><b>%{text}</b>",
         "legendgroup": "group1",
         "marker": {
          "color": "rgb(31, 119, 180)"
         },
         "mode": "markers",
         "name": "White matter",
         "showlegend": false,
         "text": [
          "Session 1",
          "Session 2",
          "Session 3",
          "Session 4",
          "Session 5",
          "Session 6",
          "Session 7",
          "Session 8",
          "Session 9",
          "Session 10"
         ],
         "type": "scatter",
         "visible": true,
         "x": [
          3.7,
          3.766666666666667,
          3.8333333333333335,
          3.9000000000000004,
          3.966666666666667,
          4.033333333333333,
          4.1000000000000005,
          4.166666666666667,
          4.233333333333333,
          4.3
         ],
         "xaxis": "x2",
         "y": [
          0.98206,
          0.99284,
          0.98787,
          1.0031,
          1.0006,
          0.99593,
          0.99724,
          0.99634,
          -100,
          -100
         ],
         "yaxis": "y2"
        },
        {
         "hovertemplate": "Mean : <i> %{y: .2f} </i><br><b>%{text}</b>",
         "legendgroup": "group1",
         "marker": {
          "color": "rgb(31, 119, 180)"
         },
         "mode": "markers",
         "name": "White matter",
         "showlegend": false,
         "text": [
          "Session 1",
          "Session 2",
          "Session 3",
          "Session 4",
          "Session 5",
          "Session 6",
          "Session 7",
          "Session 8",
          "Session 9",
          "Session 10"
         ],
         "type": "scatter",
         "visible": true,
         "x": [
          4.7,
          4.766666666666667,
          4.833333333333334,
          4.9,
          4.966666666666667,
          5.033333333333333,
          5.1000000000000005,
          5.166666666666667,
          5.233333333333333,
          5.3
         ],
         "xaxis": "x2",
         "y": [
          -100,
          -100,
          -100,
          1.0268,
          -100,
          1.0111,
          0.95212,
          1.0173,
          0.97899,
          -100
         ],
         "yaxis": "y2"
        },
        {
         "hovertemplate": "Mean : <i> %{y: .2f} </i><br><b>%{text}</b>",
         "legendgroup": "group1",
         "marker": {
          "color": "rgb(31, 119, 180)"
         },
         "mode": "markers",
         "name": "White matter",
         "showlegend": false,
         "text": [
          "Session 1",
          "Session 2",
          "Session 3",
          "Session 4",
          "Session 5",
          "Session 6",
          "Session 7",
          "Session 8",
          "Session 9",
          "Session 10"
         ],
         "type": "scatter",
         "visible": true,
         "x": [
          -0.3,
          -0.23333333333333334,
          -0.16666666666666666,
          -0.09999999999999998,
          -0.033333333333333326,
          0.033333333333333326,
          0.10000000000000003,
          0.16666666666666669,
          0.23333333333333334,
          0.3
         ],
         "xaxis": "x3",
         "y": [
          54.4942,
          54.6053,
          54.5545,
          54.8349,
          54.3868,
          54.8986,
          54.5286,
          53.8597,
          -100,
          -100
         ],
         "yaxis": "y3"
        },
        {
         "hovertemplate": "Mean : <i> %{y: .2f} </i><br><b>%{text}</b>",
         "legendgroup": "group1",
         "marker": {
          "color": "rgb(31, 119, 180)"
         },
         "mode": "markers",
         "name": "White matter",
         "showlegend": false,
         "text": [
          "Session 1",
          "Session 2",
          "Session 3",
          "Session 4",
          "Session 5",
          "Session 6",
          "Session 7",
          "Session 8",
          "Session 9",
          "Session 10"
         ],
         "type": "scatter",
         "visible": true,
         "x": [
          0.7,
          0.7666666666666666,
          0.8333333333333333,
          0.8999999999999999,
          0.9666666666666666,
          1.0333333333333332,
          1.1,
          1.1666666666666665,
          1.2333333333333334,
          1.2999999999999998
         ],
         "xaxis": "x3",
         "y": [
          54.6534,
          54.6508,
          54.8205,
          54.7355,
          54.4465,
          54.7588,
          54.1679,
          54.5073,
          53.796,
          55.1437
         ],
         "yaxis": "y3"
        },
        {
         "hovertemplate": "Mean : <i> %{y: .2f} </i><br><b>%{text}</b>",
         "legendgroup": "group1",
         "marker": {
          "color": "rgb(31, 119, 180)"
         },
         "mode": "markers",
         "name": "White matter",
         "showlegend": false,
         "text": [
          "Session 1",
          "Session 2",
          "Session 3",
          "Session 4",
          "Session 5",
          "Session 6",
          "Session 7",
          "Session 8",
          "Session 9",
          "Session 10"
         ],
         "type": "scatter",
         "visible": true,
         "x": [
          1.7,
          1.7666666666666666,
          1.8333333333333333,
          1.9,
          1.9666666666666666,
          2.033333333333333,
          2.1,
          2.1666666666666665,
          2.2333333333333334,
          2.3
         ],
         "xaxis": "x3",
         "y": [
          54.7458,
          55.0632,
          -100,
          55.3189,
          54.7074,
          55.2329,
          54.572,
          54.7739,
          55.418,
          55.3184
         ],
         "yaxis": "y3"
        },
        {
         "hovertemplate": "Mean : <i> %{y: .2f} </i><br><b>%{text}</b>",
         "legendgroup": "group1",
         "marker": {
          "color": "rgb(31, 119, 180)"
         },
         "mode": "markers",
         "name": "White matter",
         "showlegend": false,
         "text": [
          "Session 1",
          "Session 2",
          "Session 3",
          "Session 4",
          "Session 5",
          "Session 6",
          "Session 7",
          "Session 8",
          "Session 9",
          "Session 10"
         ],
         "type": "scatter",
         "visible": true,
         "x": [
          2.7,
          2.766666666666667,
          2.8333333333333335,
          2.9000000000000004,
          2.966666666666667,
          3.0333333333333337,
          3.1,
          3.166666666666667,
          3.2333333333333334,
          3.3000000000000003
         ],
         "xaxis": "x3",
         "y": [
          54.8364,
          54.6888,
          55.4519,
          55.3967,
          55.4761,
          -100,
          -100,
          -100,
          -100,
          -100
         ],
         "yaxis": "y3"
        },
        {
         "hovertemplate": "Mean : <i> %{y: .2f} </i><br><b>%{text}</b>",
         "legendgroup": "group1",
         "marker": {
          "color": "rgb(31, 119, 180)"
         },
         "mode": "markers",
         "name": "White matter",
         "showlegend": false,
         "text": [
          "Session 1",
          "Session 2",
          "Session 3",
          "Session 4",
          "Session 5",
          "Session 6",
          "Session 7",
          "Session 8",
          "Session 9",
          "Session 10"
         ],
         "type": "scatter",
         "visible": true,
         "x": [
          3.7,
          3.766666666666667,
          3.8333333333333335,
          3.9000000000000004,
          3.966666666666667,
          4.033333333333333,
          4.1000000000000005,
          4.166666666666667,
          4.233333333333333,
          4.3
         ],
         "xaxis": "x3",
         "y": [
          55.1695,
          54.9279,
          55.0109,
          54.3497,
          54.8059,
          54.5493,
          54.4189,
          55.1524,
          -100,
          -100
         ],
         "yaxis": "y3"
        },
        {
         "hovertemplate": "Mean : <i> %{y: .2f} </i><br><b>%{text}</b>",
         "legendgroup": "group1",
         "marker": {
          "color": "rgb(31, 119, 180)"
         },
         "mode": "markers",
         "name": "White matter",
         "showlegend": false,
         "text": [
          "Session 1",
          "Session 2",
          "Session 3",
          "Session 4",
          "Session 5",
          "Session 6",
          "Session 7",
          "Session 8",
          "Session 9",
          "Session 10"
         ],
         "type": "scatter",
         "visible": true,
         "x": [
          4.7,
          4.766666666666667,
          4.833333333333334,
          4.9,
          4.966666666666667,
          5.033333333333333,
          5.1000000000000005,
          5.166666666666667,
          5.233333333333333,
          5.3
         ],
         "xaxis": "x3",
         "y": [
          -100,
          -100,
          -100,
          54.6168,
          -100,
          54.9743,
          53.7135,
          54.7795,
          54.9453,
          -100
         ],
         "yaxis": "y3"
        },
        {
         "hovertemplate": "Mean : <i> %{y: .2f} </i><br><b>%{text}</b>",
         "legendgroup": "group1",
         "marker": {
          "color": "rgb(31, 119, 180)"
         },
         "mode": "markers",
         "name": "White matter",
         "showlegend": false,
         "text": [
          "Session 1",
          "Session 2",
          "Session 3",
          "Session 4",
          "Session 5",
          "Session 6",
          "Session 7",
          "Session 8",
          "Session 9",
          "Session 10"
         ],
         "type": "scatter",
         "visible": true,
         "x": [
          -0.3,
          -0.23333333333333334,
          -0.16666666666666666,
          -0.09999999999999998,
          -0.033333333333333326,
          0.033333333333333326,
          0.10000000000000003,
          0.16666666666666669,
          0.23333333333333334,
          0.3
         ],
         "xaxis": "x4",
         "y": [
          3.4958,
          3.5135,
          3.6475,
          3.6537,
          3.615,
          3.6577,
          3.6823,
          3.4385,
          -100,
          -100
         ],
         "yaxis": "y4"
        },
        {
         "hovertemplate": "Mean : <i> %{y: .2f} </i><br><b>%{text}</b>",
         "legendgroup": "group1",
         "marker": {
          "color": "rgb(31, 119, 180)"
         },
         "mode": "markers",
         "name": "White matter",
         "showlegend": false,
         "text": [
          "Session 1",
          "Session 2",
          "Session 3",
          "Session 4",
          "Session 5",
          "Session 6",
          "Session 7",
          "Session 8",
          "Session 9",
          "Session 10"
         ],
         "type": "scatter",
         "visible": true,
         "x": [
          0.7,
          0.7666666666666666,
          0.8333333333333333,
          0.8999999999999999,
          0.9666666666666666,
          1.0333333333333332,
          1.1,
          1.1666666666666665,
          1.2333333333333334,
          1.2999999999999998
         ],
         "xaxis": "x4",
         "y": [
          3.6975,
          3.6885,
          3.6751,
          3.5358,
          3.6012,
          3.5788,
          3.6341,
          3.6577,
          3.4624,
          3.6361
         ],
         "yaxis": "y4"
        },
        {
         "hovertemplate": "Mean : <i> %{y: .2f} </i><br><b>%{text}</b>",
         "legendgroup": "group1",
         "marker": {
          "color": "rgb(31, 119, 180)"
         },
         "mode": "markers",
         "name": "White matter",
         "showlegend": false,
         "text": [
          "Session 1",
          "Session 2",
          "Session 3",
          "Session 4",
          "Session 5",
          "Session 6",
          "Session 7",
          "Session 8",
          "Session 9",
          "Session 10"
         ],
         "type": "scatter",
         "visible": true,
         "x": [
          1.7,
          1.7666666666666666,
          1.8333333333333333,
          1.9,
          1.9666666666666666,
          2.033333333333333,
          2.1,
          2.1666666666666665,
          2.2333333333333334,
          2.3
         ],
         "xaxis": "x4",
         "y": [
          3.6622,
          3.7099,
          -100,
          3.7013,
          3.8085,
          3.8601,
          3.8399,
          3.6861,
          3.8072,
          3.8055
         ],
         "yaxis": "y4"
        },
        {
         "hovertemplate": "Mean : <i> %{y: .2f} </i><br><b>%{text}</b>",
         "legendgroup": "group1",
         "marker": {
          "color": "rgb(31, 119, 180)"
         },
         "mode": "markers",
         "name": "White matter",
         "showlegend": false,
         "text": [
          "Session 1",
          "Session 2",
          "Session 3",
          "Session 4",
          "Session 5",
          "Session 6",
          "Session 7",
          "Session 8",
          "Session 9",
          "Session 10"
         ],
         "type": "scatter",
         "visible": true,
         "x": [
          2.7,
          2.766666666666667,
          2.8333333333333335,
          2.9000000000000004,
          2.966666666666667,
          3.0333333333333337,
          3.1,
          3.166666666666667,
          3.2333333333333334,
          3.3000000000000003
         ],
         "xaxis": "x4",
         "y": [
          3.7484,
          3.7953,
          3.7737,
          3.7703,
          3.8764,
          -100,
          -100,
          -100,
          -100,
          -100
         ],
         "yaxis": "y4"
        },
        {
         "hovertemplate": "Mean : <i> %{y: .2f} </i><br><b>%{text}</b>",
         "legendgroup": "group1",
         "marker": {
          "color": "rgb(31, 119, 180)"
         },
         "mode": "markers",
         "name": "White matter",
         "showlegend": false,
         "text": [
          "Session 1",
          "Session 2",
          "Session 3",
          "Session 4",
          "Session 5",
          "Session 6",
          "Session 7",
          "Session 8",
          "Session 9",
          "Session 10"
         ],
         "type": "scatter",
         "visible": true,
         "x": [
          3.7,
          3.766666666666667,
          3.8333333333333335,
          3.9000000000000004,
          3.966666666666667,
          4.033333333333333,
          4.1000000000000005,
          4.166666666666667,
          4.233333333333333,
          4.3
         ],
         "xaxis": "x4",
         "y": [
          3.4726,
          3.6718,
          3.61,
          3.6395,
          3.6862,
          3.6343,
          3.5566,
          3.6271,
          -100,
          -100
         ],
         "yaxis": "y4"
        },
        {
         "hovertemplate": "Mean : <i> %{y: .2f} </i><br><b>%{text}</b>",
         "legendgroup": "group1",
         "marker": {
          "color": "rgb(31, 119, 180)"
         },
         "mode": "markers",
         "name": "White matter",
         "showlegend": false,
         "text": [
          "Session 1",
          "Session 2",
          "Session 3",
          "Session 4",
          "Session 5",
          "Session 6",
          "Session 7",
          "Session 8",
          "Session 9",
          "Session 10"
         ],
         "type": "scatter",
         "visible": true,
         "x": [
          4.7,
          4.766666666666667,
          4.833333333333334,
          4.9,
          4.966666666666667,
          5.033333333333333,
          5.1000000000000005,
          5.166666666666667,
          5.233333333333333,
          5.3
         ],
         "xaxis": "x4",
         "y": [
          -100,
          -100,
          -100,
          3.7097,
          -100,
          3.7309,
          3.6869,
          3.7877,
          3.7445,
          -100
         ],
         "yaxis": "y4"
        },
        {
         "line": {
          "color": "rgb(31, 119, 180)",
          "dash": "dot",
          "width": 2
         },
         "mode": "lines",
         "name": "White matter",
         "opacity": 0.5,
         "showlegend": false,
         "type": "scatter",
         "visible": true,
         "x": [
          -1,
          0,
          1,
          2,
          3,
          4,
          5,
          6
         ],
         "xaxis": "x",
         "y": [
          0.8912591,
          0.8912591,
          0.8912591,
          0.8912591,
          0.8912591,
          0.8912591,
          0.8912591,
          0.8912591
         ],
         "yaxis": "y"
        },
        {
         "line": {
          "color": "rgb(31, 119, 180)",
          "dash": "dot",
          "width": 2
         },
         "mode": "lines",
         "name": "White matter",
         "opacity": 0.5,
         "showlegend": false,
         "type": "scatter",
         "visible": true,
         "x": [
          -1,
          0,
          1,
          2,
          3,
          4,
          5,
          6
         ],
         "xaxis": "x2",
         "y": [
          0.9826031,
          0.9826031,
          0.9826031,
          0.9826031,
          0.9826031,
          0.9826031,
          0.9826031,
          0.9826031
         ],
         "yaxis": "y2"
        },
        {
         "line": {
          "color": "rgb(31, 119, 180)",
          "dash": "dot",
          "width": 2
         },
         "mode": "lines",
         "name": "White matter",
         "opacity": 0.5,
         "showlegend": false,
         "type": "scatter",
         "visible": true,
         "x": [
          -1,
          0,
          1,
          2,
          3,
          4,
          5,
          6
         ],
         "xaxis": "x3",
         "y": [
          54.7612733,
          54.7612733,
          54.7612733,
          54.7612733,
          54.7612733,
          54.7612733,
          54.7612733,
          54.7612733
         ],
         "yaxis": "y3"
        },
        {
         "line": {
          "color": "rgb(31, 119, 180)",
          "dash": "dot",
          "width": 2
         },
         "mode": "lines",
         "name": "White matter",
         "opacity": 0.5,
         "showlegend": false,
         "type": "scatter",
         "visible": true,
         "x": [
          -1,
          0,
          1,
          2,
          3,
          4,
          5,
          6
         ],
         "xaxis": "x4",
         "y": [
          3.6727511,
          3.6727511,
          3.6727511,
          3.6727511,
          3.6727511,
          3.6727511,
          3.6727511,
          3.6727511
         ],
         "yaxis": "y4"
        },
        {
         "fill": "toself",
         "fillcolor": "rgba(31, 119, 180, 0.15)",
         "hoverinfo": "skip",
         "line": {
          "color": "rgba(255,255,255,0)"
         },
         "showlegend": false,
         "type": "scatter",
         "visible": true,
         "x": [
          -1,
          0,
          1,
          2,
          3,
          4,
          5,
          6,
          6,
          5,
          4,
          3,
          2,
          1,
          0,
          -1
         ],
         "xaxis": "x",
         "y": [
          0.9084247999999999,
          0.9084247999999999,
          0.9084247999999999,
          0.9084247999999999,
          0.9084247999999999,
          0.9084247999999999,
          0.9084247999999999,
          0.9084247999999999,
          0.8740934,
          0.8740934,
          0.8740934,
          0.8740934,
          0.8740934,
          0.8740934,
          0.8740934,
          0.8740934
         ],
         "yaxis": "y"
        },
        {
         "fill": "toself",
         "fillcolor": "rgba(31, 119, 180, 0.15)",
         "hoverinfo": "skip",
         "line": {
          "color": "rgba(255,255,255,0)"
         },
         "showlegend": false,
         "type": "scatter",
         "visible": true,
         "x": [
          -1,
          0,
          1,
          2,
          3,
          4,
          5,
          6,
          6,
          5,
          4,
          3,
          2,
          1,
          0,
          -1
         ],
         "xaxis": "x2",
         "y": [
          1.0273153,
          1.0273153,
          1.0273153,
          1.0273153,
          1.0273153,
          1.0273153,
          1.0273153,
          1.0273153,
          0.9378909,
          0.9378909,
          0.9378909,
          0.9378909,
          0.9378909,
          0.9378909,
          0.9378909,
          0.9378909
         ],
         "yaxis": "y2"
        },
        {
         "fill": "toself",
         "fillcolor": "rgba(31, 119, 180, 0.15)",
         "hoverinfo": "skip",
         "line": {
          "color": "rgba(255,255,255,0)"
         },
         "showlegend": false,
         "type": "scatter",
         "visible": true,
         "x": [
          -1,
          0,
          1,
          2,
          3,
          4,
          5,
          6,
          6,
          5,
          4,
          3,
          2,
          1,
          0,
          -1
         ],
         "xaxis": "x3",
         "y": [
          55.1706377,
          55.1706377,
          55.1706377,
          55.1706377,
          55.1706377,
          55.1706377,
          55.1706377,
          55.1706377,
          54.3519089,
          54.3519089,
          54.3519089,
          54.3519089,
          54.3519089,
          54.3519089,
          54.3519089,
          54.3519089
         ],
         "yaxis": "y3"
        },
        {
         "fill": "toself",
         "fillcolor": "rgba(31, 119, 180, 0.15)",
         "hoverinfo": "skip",
         "line": {
          "color": "rgba(255,255,255,0)"
         },
         "showlegend": false,
         "type": "scatter",
         "visible": true,
         "x": [
          -1,
          0,
          1,
          2,
          3,
          4,
          5,
          6,
          6,
          5,
          4,
          3,
          2,
          1,
          0,
          -1
         ],
         "xaxis": "x4",
         "y": [
          3.7764918,
          3.7764918,
          3.7764918,
          3.7764918,
          3.7764918,
          3.7764918,
          3.7764918,
          3.7764918,
          3.5690104000000002,
          3.5690104000000002,
          3.5690104000000002,
          3.5690104000000002,
          3.5690104000000002,
          3.5690104000000002,
          3.5690104000000002,
          3.5690104000000002
         ],
         "yaxis": "y4"
        },
        {
         "hovertemplate": "Mean : <i> %{y: .2f} </i> sec<br><b>%{text}</b>",
         "legendgroup": "group2",
         "marker": {
          "color": "rgb(190, 77, 80)"
         },
         "mode": "markers",
         "name": "Grey matter",
         "showlegend": true,
         "text": [
          "Session 1",
          "Session 2",
          "Session 3",
          "Session 4",
          "Session 5",
          "Session 6",
          "Session 7",
          "Session 8",
          "Session 9",
          "Session 10"
         ],
         "type": "scatter",
         "visible": true,
         "x": [
          -0.3,
          -0.23333333333333334,
          -0.16666666666666666,
          -0.09999999999999998,
          -0.033333333333333326,
          0.033333333333333326,
          0.10000000000000003,
          0.16666666666666669,
          0.23333333333333334,
          0.3
         ],
         "xaxis": "x",
         "y": [
          1.5023,
          1.4887,
          1.5068,
          1.5041,
          1.4944,
          1.4952,
          1.5011,
          1.5004,
          -100,
          -100
         ],
         "yaxis": "y"
        },
        {
         "hovertemplate": "Mean : <i> %{y: .2f} </i> sec<br><b>%{text}</b>",
         "legendgroup": "group2",
         "marker": {
          "color": "rgb(190, 77, 80)"
         },
         "mode": "markers",
         "name": "Grey matter",
         "showlegend": false,
         "text": [
          "Session 1",
          "Session 2",
          "Session 3",
          "Session 4",
          "Session 5",
          "Session 6",
          "Session 7",
          "Session 8",
          "Session 9",
          "Session 10"
         ],
         "type": "scatter",
         "visible": true,
         "x": [
          0.7,
          0.7666666666666666,
          0.8333333333333333,
          0.8999999999999999,
          0.9666666666666666,
          1.0333333333333332,
          1.1,
          1.1666666666666665,
          1.2333333333333334,
          1.2999999999999998
         ],
         "xaxis": "x",
         "y": [
          1.4577,
          1.4571,
          1.4553,
          1.4479,
          1.4526,
          1.4575,
          1.4666,
          1.4534,
          1.4422,
          1.4725
         ],
         "yaxis": "y"
        },
        {
         "hovertemplate": "Mean : <i> %{y: .2f} </i> sec<br><b>%{text}</b>",
         "legendgroup": "group2",
         "marker": {
          "color": "rgb(190, 77, 80)"
         },
         "mode": "markers",
         "name": "Grey matter",
         "showlegend": false,
         "text": [
          "Session 1",
          "Session 2",
          "Session 3",
          "Session 4",
          "Session 5",
          "Session 6",
          "Session 7",
          "Session 8",
          "Session 9",
          "Session 10"
         ],
         "type": "scatter",
         "visible": true,
         "x": [
          1.7,
          1.7666666666666666,
          1.8333333333333333,
          1.9,
          1.9666666666666666,
          2.033333333333333,
          2.1,
          2.1666666666666665,
          2.2333333333333334,
          2.3
         ],
         "xaxis": "x",
         "y": [
          1.4857,
          1.4895,
          -100,
          1.4891,
          1.4937,
          1.4841,
          1.4856,
          1.4841,
          1.4824,
          1.4821
         ],
         "yaxis": "y"
        },
        {
         "hovertemplate": "Mean : <i> %{y: .2f} </i> sec<br><b>%{text}</b>",
         "legendgroup": "group2",
         "marker": {
          "color": "rgb(190, 77, 80)"
         },
         "mode": "markers",
         "name": "Grey matter",
         "showlegend": false,
         "text": [
          "Session 1",
          "Session 2",
          "Session 3",
          "Session 4",
          "Session 5",
          "Session 6",
          "Session 7",
          "Session 8",
          "Session 9",
          "Session 10"
         ],
         "type": "scatter",
         "visible": true,
         "x": [
          2.7,
          2.766666666666667,
          2.8333333333333335,
          2.9000000000000004,
          2.966666666666667,
          3.0333333333333337,
          3.1,
          3.166666666666667,
          3.2333333333333334,
          3.3000000000000003
         ],
         "xaxis": "x",
         "y": [
          1.4887,
          1.4864,
          1.492,
          1.4858,
          1.4849,
          -100,
          -100,
          -100,
          -100,
          -100
         ],
         "yaxis": "y"
        },
        {
         "hovertemplate": "Mean : <i> %{y: .2f} </i> sec<br><b>%{text}</b>",
         "legendgroup": "group2",
         "marker": {
          "color": "rgb(190, 77, 80)"
         },
         "mode": "markers",
         "name": "Grey matter",
         "showlegend": false,
         "text": [
          "Session 1",
          "Session 2",
          "Session 3",
          "Session 4",
          "Session 5",
          "Session 6",
          "Session 7",
          "Session 8",
          "Session 9",
          "Session 10"
         ],
         "type": "scatter",
         "visible": true,
         "x": [
          3.7,
          3.766666666666667,
          3.8333333333333335,
          3.9000000000000004,
          3.966666666666667,
          4.033333333333333,
          4.1000000000000005,
          4.166666666666667,
          4.233333333333333,
          4.3
         ],
         "xaxis": "x",
         "y": [
          1.4853,
          1.4829,
          1.4718,
          1.4833,
          1.4736,
          1.4754,
          1.4858,
          1.4698,
          -100,
          -100
         ],
         "yaxis": "y"
        },
        {
         "hovertemplate": "Mean : <i> %{y: .2f} </i> sec<br><b>%{text}</b>",
         "legendgroup": "group2",
         "marker": {
          "color": "rgb(190, 77, 80)"
         },
         "mode": "markers",
         "name": "Grey matter",
         "showlegend": false,
         "text": [
          "Session 1",
          "Session 2",
          "Session 3",
          "Session 4",
          "Session 5",
          "Session 6",
          "Session 7",
          "Session 8",
          "Session 9",
          "Session 10"
         ],
         "type": "scatter",
         "visible": true,
         "x": [
          4.7,
          4.766666666666667,
          4.833333333333334,
          4.9,
          4.966666666666667,
          5.033333333333333,
          5.1000000000000005,
          5.166666666666667,
          5.233333333333333,
          5.3
         ],
         "xaxis": "x",
         "y": [
          -100,
          -100,
          -100,
          1.5044,
          -100,
          1.5067,
          1.4942,
          1.5094,
          1.5004,
          -100
         ],
         "yaxis": "y"
        },
        {
         "hovertemplate": "Mean : <i> %{y: .2f} </i><br><b>%{text}</b>",
         "legendgroup": "group2",
         "marker": {
          "color": "rgb(190, 77, 80)"
         },
         "mode": "markers",
         "name": "Grey matter",
         "showlegend": false,
         "text": [
          "Session 1",
          "Session 2",
          "Session 3",
          "Session 4",
          "Session 5",
          "Session 6",
          "Session 7",
          "Session 8",
          "Session 9",
          "Session 10"
         ],
         "type": "scatter",
         "visible": true,
         "x": [
          -0.3,
          -0.23333333333333334,
          -0.16666666666666666,
          -0.09999999999999998,
          -0.033333333333333326,
          0.033333333333333326,
          0.10000000000000003,
          0.16666666666666669,
          0.23333333333333334,
          0.3
         ],
         "xaxis": "x2",
         "y": [
          1.5428,
          1.5987,
          1.658,
          1.5843,
          1.5902,
          1.5977,
          1.6297,
          1.6305,
          -100,
          -100
         ],
         "yaxis": "y2"
        },
        {
         "hovertemplate": "Mean : <i> %{y: .2f} </i><br><b>%{text}</b>",
         "legendgroup": "group2",
         "marker": {
          "color": "rgb(190, 77, 80)"
         },
         "mode": "markers",
         "name": "Grey matter",
         "showlegend": false,
         "text": [
          "Session 1",
          "Session 2",
          "Session 3",
          "Session 4",
          "Session 5",
          "Session 6",
          "Session 7",
          "Session 8",
          "Session 9",
          "Session 10"
         ],
         "type": "scatter",
         "visible": true,
         "x": [
          0.7,
          0.7666666666666666,
          0.8333333333333333,
          0.8999999999999999,
          0.9666666666666666,
          1.0333333333333332,
          1.1,
          1.1666666666666665,
          1.2333333333333334,
          1.2999999999999998
         ],
         "xaxis": "x2",
         "y": [
          1.5887,
          1.4959,
          1.3363,
          1.2372,
          1.4103,
          1.379,
          1.4576,
          1.3968,
          1.461,
          1.3865
         ],
         "yaxis": "y2"
        },
        {
         "hovertemplate": "Mean : <i> %{y: .2f} </i><br><b>%{text}</b>",
         "legendgroup": "group2",
         "marker": {
          "color": "rgb(190, 77, 80)"
         },
         "mode": "markers",
         "name": "Grey matter",
         "showlegend": false,
         "text": [
          "Session 1",
          "Session 2",
          "Session 3",
          "Session 4",
          "Session 5",
          "Session 6",
          "Session 7",
          "Session 8",
          "Session 9",
          "Session 10"
         ],
         "type": "scatter",
         "visible": true,
         "x": [
          1.7,
          1.7666666666666666,
          1.8333333333333333,
          1.9,
          1.9666666666666666,
          2.033333333333333,
          2.1,
          2.1666666666666665,
          2.2333333333333334,
          2.3
         ],
         "xaxis": "x2",
         "y": [
          1.5771,
          1.6021,
          -100,
          1.6057,
          1.6272,
          1.6535,
          1.5686,
          1.5838,
          1.6274,
          1.5589
         ],
         "yaxis": "y2"
        },
        {
         "hovertemplate": "Mean : <i> %{y: .2f} </i><br><b>%{text}</b>",
         "legendgroup": "group2",
         "marker": {
          "color": "rgb(190, 77, 80)"
         },
         "mode": "markers",
         "name": "Grey matter",
         "showlegend": false,
         "text": [
          "Session 1",
          "Session 2",
          "Session 3",
          "Session 4",
          "Session 5",
          "Session 6",
          "Session 7",
          "Session 8",
          "Session 9",
          "Session 10"
         ],
         "type": "scatter",
         "visible": true,
         "x": [
          2.7,
          2.766666666666667,
          2.8333333333333335,
          2.9000000000000004,
          2.966666666666667,
          3.0333333333333337,
          3.1,
          3.166666666666667,
          3.2333333333333334,
          3.3000000000000003
         ],
         "xaxis": "x2",
         "y": [
          1.6457,
          1.6051,
          1.6961,
          1.7059,
          1.7119,
          -100,
          -100,
          -100,
          -100,
          -100
         ],
         "yaxis": "y2"
        },
        {
         "hovertemplate": "Mean : <i> %{y: .2f} </i><br><b>%{text}</b>",
         "legendgroup": "group2",
         "marker": {
          "color": "rgb(190, 77, 80)"
         },
         "mode": "markers",
         "name": "Grey matter",
         "showlegend": false,
         "text": [
          "Session 1",
          "Session 2",
          "Session 3",
          "Session 4",
          "Session 5",
          "Session 6",
          "Session 7",
          "Session 8",
          "Session 9",
          "Session 10"
         ],
         "type": "scatter",
         "visible": true,
         "x": [
          3.7,
          3.766666666666667,
          3.8333333333333335,
          3.9000000000000004,
          3.966666666666667,
          4.033333333333333,
          4.1000000000000005,
          4.166666666666667,
          4.233333333333333,
          4.3
         ],
         "xaxis": "x2",
         "y": [
          1.7113,
          1.719,
          1.6564,
          1.7215,
          1.6973,
          1.6871,
          1.7592,
          1.6645,
          -100,
          -100
         ],
         "yaxis": "y2"
        },
        {
         "hovertemplate": "Mean : <i> %{y: .2f} </i><br><b>%{text}</b>",
         "legendgroup": "group2",
         "marker": {
          "color": "rgb(190, 77, 80)"
         },
         "mode": "markers",
         "name": "Grey matter",
         "showlegend": false,
         "text": [
          "Session 1",
          "Session 2",
          "Session 3",
          "Session 4",
          "Session 5",
          "Session 6",
          "Session 7",
          "Session 8",
          "Session 9",
          "Session 10"
         ],
         "type": "scatter",
         "visible": true,
         "x": [
          4.7,
          4.766666666666667,
          4.833333333333334,
          4.9,
          4.966666666666667,
          5.033333333333333,
          5.1000000000000005,
          5.166666666666667,
          5.233333333333333,
          5.3
         ],
         "xaxis": "x2",
         "y": [
          -100,
          -100,
          -100,
          1.661,
          -100,
          1.6137,
          1.5064,
          1.6931,
          1.5941,
          -100
         ],
         "yaxis": "y2"
        },
        {
         "hovertemplate": "Mean : <i> %{y: .2f} </i><br><b>%{text}</b>",
         "legendgroup": "group2",
         "marker": {
          "color": "rgb(190, 77, 80)"
         },
         "mode": "markers",
         "name": "Grey matter",
         "showlegend": false,
         "text": [
          "Session 1",
          "Session 2",
          "Session 3",
          "Session 4",
          "Session 5",
          "Session 6",
          "Session 7",
          "Session 8",
          "Session 9",
          "Session 10"
         ],
         "type": "scatter",
         "visible": true,
         "x": [
          -0.3,
          -0.23333333333333334,
          -0.16666666666666666,
          -0.09999999999999998,
          -0.033333333333333326,
          0.033333333333333326,
          0.10000000000000003,
          0.16666666666666669,
          0.23333333333333334,
          0.3
         ],
         "xaxis": "x3",
         "y": [
          45.0812,
          45.5076,
          45.2895,
          45.7748,
          45.4781,
          46.0801,
          45.8098,
          45.3687,
          -100,
          -100
         ],
         "yaxis": "y3"
        },
        {
         "hovertemplate": "Mean : <i> %{y: .2f} </i><br><b>%{text}</b>",
         "legendgroup": "group2",
         "marker": {
          "color": "rgb(190, 77, 80)"
         },
         "mode": "markers",
         "name": "Grey matter",
         "showlegend": false,
         "text": [
          "Session 1",
          "Session 2",
          "Session 3",
          "Session 4",
          "Session 5",
          "Session 6",
          "Session 7",
          "Session 8",
          "Session 9",
          "Session 10"
         ],
         "type": "scatter",
         "visible": true,
         "x": [
          0.7,
          0.7666666666666666,
          0.8333333333333333,
          0.8999999999999999,
          0.9666666666666666,
          1.0333333333333332,
          1.1,
          1.1666666666666665,
          1.2333333333333334,
          1.2999999999999998
         ],
         "xaxis": "x3",
         "y": [
          46.4425,
          46.7884,
          47.0675,
          47.1009,
          46.4611,
          46.898,
          46.1201,
          46.7716,
          45.8107,
          47.0788
         ],
         "yaxis": "y3"
        },
        {
         "hovertemplate": "Mean : <i> %{y: .2f} </i><br><b>%{text}</b>",
         "legendgroup": "group2",
         "marker": {
          "color": "rgb(190, 77, 80)"
         },
         "mode": "markers",
         "name": "Grey matter",
         "showlegend": false,
         "text": [
          "Session 1",
          "Session 2",
          "Session 3",
          "Session 4",
          "Session 5",
          "Session 6",
          "Session 7",
          "Session 8",
          "Session 9",
          "Session 10"
         ],
         "type": "scatter",
         "visible": true,
         "x": [
          1.7,
          1.7666666666666666,
          1.8333333333333333,
          1.9,
          1.9666666666666666,
          2.033333333333333,
          2.1,
          2.1666666666666665,
          2.2333333333333334,
          2.3
         ],
         "xaxis": "x3",
         "y": [
          45.3981,
          45.4776,
          -100,
          46.2824,
          45.5253,
          46.0085,
          45.3768,
          45.5326,
          46.1268,
          45.9066
         ],
         "yaxis": "y3"
        },
        {
         "hovertemplate": "Mean : <i> %{y: .2f} </i><br><b>%{text}</b>",
         "legendgroup": "group2",
         "marker": {
          "color": "rgb(190, 77, 80)"
         },
         "mode": "markers",
         "name": "Grey matter",
         "showlegend": false,
         "text": [
          "Session 1",
          "Session 2",
          "Session 3",
          "Session 4",
          "Session 5",
          "Session 6",
          "Session 7",
          "Session 8",
          "Session 9",
          "Session 10"
         ],
         "type": "scatter",
         "visible": true,
         "x": [
          2.7,
          2.766666666666667,
          2.8333333333333335,
          2.9000000000000004,
          2.966666666666667,
          3.0333333333333337,
          3.1,
          3.166666666666667,
          3.2333333333333334,
          3.3000000000000003
         ],
         "xaxis": "x3",
         "y": [
          46.2817,
          46.2617,
          46.9595,
          46.9385,
          46.7142,
          -100,
          -100,
          -100,
          -100,
          -100
         ],
         "yaxis": "y3"
        },
        {
         "hovertemplate": "Mean : <i> %{y: .2f} </i><br><b>%{text}</b>",
         "legendgroup": "group2",
         "marker": {
          "color": "rgb(190, 77, 80)"
         },
         "mode": "markers",
         "name": "Grey matter",
         "showlegend": false,
         "text": [
          "Session 1",
          "Session 2",
          "Session 3",
          "Session 4",
          "Session 5",
          "Session 6",
          "Session 7",
          "Session 8",
          "Session 9",
          "Session 10"
         ],
         "type": "scatter",
         "visible": true,
         "x": [
          3.7,
          3.766666666666667,
          3.8333333333333335,
          3.9000000000000004,
          3.966666666666667,
          4.033333333333333,
          4.1000000000000005,
          4.166666666666667,
          4.233333333333333,
          4.3
         ],
         "xaxis": "x3",
         "y": [
          46.795,
          46.5593,
          46.6798,
          46.3935,
          46.6239,
          46.283,
          45.9737,
          46.8907,
          -100,
          -100
         ],
         "yaxis": "y3"
        },
        {
         "hovertemplate": "Mean : <i> %{y: .2f} </i><br><b>%{text}</b>",
         "legendgroup": "group2",
         "marker": {
          "color": "rgb(190, 77, 80)"
         },
         "mode": "markers",
         "name": "Grey matter",
         "showlegend": false,
         "text": [
          "Session 1",
          "Session 2",
          "Session 3",
          "Session 4",
          "Session 5",
          "Session 6",
          "Session 7",
          "Session 8",
          "Session 9",
          "Session 10"
         ],
         "type": "scatter",
         "visible": true,
         "x": [
          4.7,
          4.766666666666667,
          4.833333333333334,
          4.9,
          4.966666666666667,
          5.033333333333333,
          5.1000000000000005,
          5.166666666666667,
          5.233333333333333,
          5.3
         ],
         "xaxis": "x3",
         "y": [
          -100,
          -100,
          -100,
          45.5065,
          -100,
          45.8927,
          44.3456,
          45.493,
          45.6576,
          -100
         ],
         "yaxis": "y3"
        },
        {
         "hovertemplate": "Mean : <i> %{y: .2f} </i><br><b>%{text}</b>",
         "legendgroup": "group2",
         "marker": {
          "color": "rgb(190, 77, 80)"
         },
         "mode": "markers",
         "name": "Grey matter",
         "showlegend": false,
         "text": [
          "Session 1",
          "Session 2",
          "Session 3",
          "Session 4",
          "Session 5",
          "Session 6",
          "Session 7",
          "Session 8",
          "Session 9",
          "Session 10"
         ],
         "type": "scatter",
         "visible": true,
         "x": [
          -0.3,
          -0.23333333333333334,
          -0.16666666666666666,
          -0.09999999999999998,
          -0.033333333333333326,
          0.033333333333333326,
          0.10000000000000003,
          0.16666666666666669,
          0.23333333333333334,
          0.3
         ],
         "xaxis": "x4",
         "y": [
          1.6323,
          1.6849,
          1.7047,
          1.6863,
          1.7095,
          1.7062,
          1.7394,
          1.6604,
          -100,
          -100
         ],
         "yaxis": "y4"
        },
        {
         "hovertemplate": "Mean : <i> %{y: .2f} </i><br><b>%{text}</b>",
         "legendgroup": "group2",
         "marker": {
          "color": "rgb(190, 77, 80)"
         },
         "mode": "markers",
         "name": "Grey matter",
         "showlegend": false,
         "text": [
          "Session 1",
          "Session 2",
          "Session 3",
          "Session 4",
          "Session 5",
          "Session 6",
          "Session 7",
          "Session 8",
          "Session 9",
          "Session 10"
         ],
         "type": "scatter",
         "visible": true,
         "x": [
          0.7,
          0.7666666666666666,
          0.8333333333333333,
          0.8999999999999999,
          0.9666666666666666,
          1.0333333333333332,
          1.1,
          1.1666666666666665,
          1.2333333333333334,
          1.2999999999999998
         ],
         "xaxis": "x4",
         "y": [
          1.6956,
          1.6398,
          1.5237,
          1.4021,
          1.5183,
          1.4932,
          1.6515,
          1.5909,
          1.5041,
          1.5234
         ],
         "yaxis": "y4"
        },
        {
         "hovertemplate": "Mean : <i> %{y: .2f} </i><br><b>%{text}</b>",
         "legendgroup": "group2",
         "marker": {
          "color": "rgb(190, 77, 80)"
         },
         "mode": "markers",
         "name": "Grey matter",
         "showlegend": false,
         "text": [
          "Session 1",
          "Session 2",
          "Session 3",
          "Session 4",
          "Session 5",
          "Session 6",
          "Session 7",
          "Session 8",
          "Session 9",
          "Session 10"
         ],
         "type": "scatter",
         "visible": true,
         "x": [
          1.7,
          1.7666666666666666,
          1.8333333333333333,
          1.9,
          1.9666666666666666,
          2.033333333333333,
          2.1,
          2.1666666666666665,
          2.2333333333333334,
          2.3
         ],
         "xaxis": "x4",
         "y": [
          1.6625,
          1.6653,
          -100,
          1.6277,
          1.7061,
          1.7502,
          1.678,
          1.6198,
          1.6645,
          1.6202
         ],
         "yaxis": "y4"
        },
        {
         "hovertemplate": "Mean : <i> %{y: .2f} </i><br><b>%{text}</b>",
         "legendgroup": "group2",
         "marker": {
          "color": "rgb(190, 77, 80)"
         },
         "mode": "markers",
         "name": "Grey matter",
         "showlegend": false,
         "text": [
          "Session 1",
          "Session 2",
          "Session 3",
          "Session 4",
          "Session 5",
          "Session 6",
          "Session 7",
          "Session 8",
          "Session 9",
          "Session 10"
         ],
         "type": "scatter",
         "visible": true,
         "x": [
          2.7,
          2.766666666666667,
          2.8333333333333335,
          2.9000000000000004,
          2.966666666666667,
          3.0333333333333337,
          3.1,
          3.166666666666667,
          3.2333333333333334,
          3.3000000000000003
         ],
         "xaxis": "x4",
         "y": [
          1.6873,
          1.7987,
          1.7839,
          1.8057,
          1.8233,
          -100,
          -100,
          -100,
          -100,
          -100
         ],
         "yaxis": "y4"
        },
        {
         "hovertemplate": "Mean : <i> %{y: .2f} </i><br><b>%{text}</b>",
         "legendgroup": "group2",
         "marker": {
          "color": "rgb(190, 77, 80)"
         },
         "mode": "markers",
         "name": "Grey matter",
         "showlegend": false,
         "text": [
          "Session 1",
          "Session 2",
          "Session 3",
          "Session 4",
          "Session 5",
          "Session 6",
          "Session 7",
          "Session 8",
          "Session 9",
          "Session 10"
         ],
         "type": "scatter",
         "visible": true,
         "x": [
          3.7,
          3.766666666666667,
          3.8333333333333335,
          3.9000000000000004,
          3.966666666666667,
          4.033333333333333,
          4.1000000000000005,
          4.166666666666667,
          4.233333333333333,
          4.3
         ],
         "xaxis": "x4",
         "y": [
          1.6819,
          1.7585,
          1.7303,
          1.787,
          1.7839,
          1.7543,
          1.7477,
          1.7097,
          -100,
          -100
         ],
         "yaxis": "y4"
        },
        {
         "hovertemplate": "Mean : <i> %{y: .2f} </i><br><b>%{text}</b>",
         "legendgroup": "group2",
         "marker": {
          "color": "rgb(190, 77, 80)"
         },
         "mode": "markers",
         "name": "Grey matter",
         "showlegend": false,
         "text": [
          "Session 1",
          "Session 2",
          "Session 3",
          "Session 4",
          "Session 5",
          "Session 6",
          "Session 7",
          "Session 8",
          "Session 9",
          "Session 10"
         ],
         "type": "scatter",
         "visible": true,
         "x": [
          4.7,
          4.766666666666667,
          4.833333333333334,
          4.9,
          4.966666666666667,
          5.033333333333333,
          5.1000000000000005,
          5.166666666666667,
          5.233333333333333,
          5.3
         ],
         "xaxis": "x4",
         "y": [
          -100,
          -100,
          -100,
          1.6448,
          -100,
          1.614,
          1.564,
          1.6659,
          1.6208,
          -100
         ],
         "yaxis": "y4"
        },
        {
         "line": {
          "color": "rgb(190, 77, 80)",
          "dash": "dot",
          "width": 2
         },
         "mode": "lines",
         "name": "Grey matter",
         "opacity": 0.5,
         "showlegend": false,
         "type": "scatter",
         "visible": true,
         "x": [
          -1,
          0,
          1,
          2,
          3,
          4,
          5,
          6
         ],
         "xaxis": "x",
         "y": [
          1.4825089,
          1.4825089,
          1.4825089,
          1.4825089,
          1.4825089,
          1.4825089,
          1.4825089,
          1.4825089
         ],
         "yaxis": "y"
        },
        {
         "line": {
          "color": "rgb(190, 77, 80)",
          "dash": "dot",
          "width": 2
         },
         "mode": "lines",
         "name": "Grey matter",
         "opacity": 0.5,
         "showlegend": false,
         "type": "scatter",
         "visible": true,
         "x": [
          -1,
          0,
          1,
          2,
          3,
          4,
          5,
          6
         ],
         "xaxis": "x2",
         "y": [
          1.58744,
          1.58744,
          1.58744,
          1.58744,
          1.58744,
          1.58744,
          1.58744,
          1.58744
         ],
         "yaxis": "y2"
        },
        {
         "line": {
          "color": "rgb(190, 77, 80)",
          "dash": "dot",
          "width": 2
         },
         "mode": "lines",
         "name": "Grey matter",
         "opacity": 0.5,
         "showlegend": false,
         "type": "scatter",
         "visible": true,
         "x": [
          -1,
          0,
          1,
          2,
          3,
          4,
          5,
          6
         ],
         "xaxis": "x3",
         "y": [
          46.1069778,
          46.1069778,
          46.1069778,
          46.1069778,
          46.1069778,
          46.1069778,
          46.1069778,
          46.1069778
         ],
         "yaxis": "y3"
        },
        {
         "line": {
          "color": "rgb(190, 77, 80)",
          "dash": "dot",
          "width": 2
         },
         "mode": "lines",
         "name": "Grey matter",
         "opacity": 0.5,
         "showlegend": false,
         "type": "scatter",
         "visible": true,
         "x": [
          -1,
          0,
          1,
          2,
          3,
          4,
          5,
          6
         ],
         "xaxis": "x4",
         "y": [
          1.6671622,
          1.6671622,
          1.6671622,
          1.6671622,
          1.6671622,
          1.6671622,
          1.6671622,
          1.6671622
         ],
         "yaxis": "y4"
        },
        {
         "fill": "toself",
         "fillcolor": "rgba(190, 77, 80, 0.15)",
         "hoverinfo": "skip",
         "line": {
          "color": "rgba(255,255,255,0)"
         },
         "showlegend": false,
         "type": "scatter",
         "visible": true,
         "x": [
          -1,
          0,
          1,
          2,
          3,
          4,
          5,
          6,
          6,
          5,
          4,
          3,
          2,
          1,
          0,
          -1
         ],
         "xaxis": "x",
         "y": [
          1.4995523,
          1.4995523,
          1.4995523,
          1.4995523,
          1.4995523,
          1.4995523,
          1.4995523,
          1.4995523,
          1.4654655,
          1.4654655,
          1.4654655,
          1.4654655,
          1.4654655,
          1.4654655,
          1.4654655,
          1.4654655
         ],
         "yaxis": "y"
        },
        {
         "fill": "toself",
         "fillcolor": "rgba(190, 77, 80, 0.15)",
         "hoverinfo": "skip",
         "line": {
          "color": "rgba(255,255,255,0)"
         },
         "showlegend": false,
         "type": "scatter",
         "visible": true,
         "x": [
          -1,
          0,
          1,
          2,
          3,
          4,
          5,
          6,
          6,
          5,
          4,
          3,
          2,
          1,
          0,
          -1
         ],
         "xaxis": "x2",
         "y": [
          1.7010166,
          1.7010166,
          1.7010166,
          1.7010166,
          1.7010166,
          1.7010166,
          1.7010166,
          1.7010166,
          1.4738634,
          1.4738634,
          1.4738634,
          1.4738634,
          1.4738634,
          1.4738634,
          1.4738634,
          1.4738634
         ],
         "yaxis": "y2"
        },
        {
         "fill": "toself",
         "fillcolor": "rgba(190, 77, 80, 0.15)",
         "hoverinfo": "skip",
         "line": {
          "color": "rgba(255,255,255,0)"
         },
         "showlegend": false,
         "type": "scatter",
         "visible": true,
         "x": [
          -1,
          0,
          1,
          2,
          3,
          4,
          5,
          6,
          6,
          5,
          4,
          3,
          2,
          1,
          0,
          -1
         ],
         "xaxis": "x3",
         "y": [
          46.740503600000004,
          46.740503600000004,
          46.740503600000004,
          46.740503600000004,
          46.740503600000004,
          46.740503600000004,
          46.740503600000004,
          46.740503600000004,
          45.473452,
          45.473452,
          45.473452,
          45.473452,
          45.473452,
          45.473452,
          45.473452,
          45.473452
         ],
         "yaxis": "y3"
        },
        {
         "fill": "toself",
         "fillcolor": "rgba(190, 77, 80, 0.15)",
         "hoverinfo": "skip",
         "line": {
          "color": "rgba(255,255,255,0)"
         },
         "showlegend": false,
         "type": "scatter",
         "visible": true,
         "x": [
          -1,
          0,
          1,
          2,
          3,
          4,
          5,
          6,
          6,
          5,
          4,
          3,
          2,
          1,
          0,
          -1
         ],
         "xaxis": "x4",
         "y": [
          1.7580885,
          1.7580885,
          1.7580885,
          1.7580885,
          1.7580885,
          1.7580885,
          1.7580885,
          1.7580885,
          1.5762359,
          1.5762359,
          1.5762359,
          1.5762359,
          1.5762359,
          1.5762359,
          1.5762359,
          1.5762359
         ],
         "yaxis": "y4"
        }
       ],
       "layout": {
        "height": 900,
        "legend": {
         "title": {
          "text": ""
         }
        },
        "margin": {
         "b": 30,
         "l": 30,
         "r": 30,
         "t": 10
        },
        "paper_bgcolor": "rgb(255, 255, 255)",
        "plot_bgcolor": "rgb(255, 255, 255)",
        "template": {
         "data": {
          "bar": [
           {
            "error_x": {
             "color": "#2a3f5f"
            },
            "error_y": {
             "color": "#2a3f5f"
            },
            "marker": {
             "line": {
              "color": "#E5ECF6",
              "width": 0.5
             },
             "pattern": {
              "fillmode": "overlay",
              "size": 10,
              "solidity": 0.2
             }
            },
            "type": "bar"
           }
          ],
          "barpolar": [
           {
            "marker": {
             "line": {
              "color": "#E5ECF6",
              "width": 0.5
             },
             "pattern": {
              "fillmode": "overlay",
              "size": 10,
              "solidity": 0.2
             }
            },
            "type": "barpolar"
           }
          ],
          "carpet": [
           {
            "aaxis": {
             "endlinecolor": "#2a3f5f",
             "gridcolor": "white",
             "linecolor": "white",
             "minorgridcolor": "white",
             "startlinecolor": "#2a3f5f"
            },
            "baxis": {
             "endlinecolor": "#2a3f5f",
             "gridcolor": "white",
             "linecolor": "white",
             "minorgridcolor": "white",
             "startlinecolor": "#2a3f5f"
            },
            "type": "carpet"
           }
          ],
          "choropleth": [
           {
            "colorbar": {
             "outlinewidth": 0,
             "ticks": ""
            },
            "type": "choropleth"
           }
          ],
          "contour": [
           {
            "colorbar": {
             "outlinewidth": 0,
             "ticks": ""
            },
            "colorscale": [
             [
              0,
              "#0d0887"
             ],
             [
              0.1111111111111111,
              "#46039f"
             ],
             [
              0.2222222222222222,
              "#7201a8"
             ],
             [
              0.3333333333333333,
              "#9c179e"
             ],
             [
              0.4444444444444444,
              "#bd3786"
             ],
             [
              0.5555555555555556,
              "#d8576b"
             ],
             [
              0.6666666666666666,
              "#ed7953"
             ],
             [
              0.7777777777777778,
              "#fb9f3a"
             ],
             [
              0.8888888888888888,
              "#fdca26"
             ],
             [
              1,
              "#f0f921"
             ]
            ],
            "type": "contour"
           }
          ],
          "contourcarpet": [
           {
            "colorbar": {
             "outlinewidth": 0,
             "ticks": ""
            },
            "type": "contourcarpet"
           }
          ],
          "heatmap": [
           {
            "colorbar": {
             "outlinewidth": 0,
             "ticks": ""
            },
            "colorscale": [
             [
              0,
              "#0d0887"
             ],
             [
              0.1111111111111111,
              "#46039f"
             ],
             [
              0.2222222222222222,
              "#7201a8"
             ],
             [
              0.3333333333333333,
              "#9c179e"
             ],
             [
              0.4444444444444444,
              "#bd3786"
             ],
             [
              0.5555555555555556,
              "#d8576b"
             ],
             [
              0.6666666666666666,
              "#ed7953"
             ],
             [
              0.7777777777777778,
              "#fb9f3a"
             ],
             [
              0.8888888888888888,
              "#fdca26"
             ],
             [
              1,
              "#f0f921"
             ]
            ],
            "type": "heatmap"
           }
          ],
          "heatmapgl": [
           {
            "colorbar": {
             "outlinewidth": 0,
             "ticks": ""
            },
            "colorscale": [
             [
              0,
              "#0d0887"
             ],
             [
              0.1111111111111111,
              "#46039f"
             ],
             [
              0.2222222222222222,
              "#7201a8"
             ],
             [
              0.3333333333333333,
              "#9c179e"
             ],
             [
              0.4444444444444444,
              "#bd3786"
             ],
             [
              0.5555555555555556,
              "#d8576b"
             ],
             [
              0.6666666666666666,
              "#ed7953"
             ],
             [
              0.7777777777777778,
              "#fb9f3a"
             ],
             [
              0.8888888888888888,
              "#fdca26"
             ],
             [
              1,
              "#f0f921"
             ]
            ],
            "type": "heatmapgl"
           }
          ],
          "histogram": [
           {
            "marker": {
             "pattern": {
              "fillmode": "overlay",
              "size": 10,
              "solidity": 0.2
             }
            },
            "type": "histogram"
           }
          ],
          "histogram2d": [
           {
            "colorbar": {
             "outlinewidth": 0,
             "ticks": ""
            },
            "colorscale": [
             [
              0,
              "#0d0887"
             ],
             [
              0.1111111111111111,
              "#46039f"
             ],
             [
              0.2222222222222222,
              "#7201a8"
             ],
             [
              0.3333333333333333,
              "#9c179e"
             ],
             [
              0.4444444444444444,
              "#bd3786"
             ],
             [
              0.5555555555555556,
              "#d8576b"
             ],
             [
              0.6666666666666666,
              "#ed7953"
             ],
             [
              0.7777777777777778,
              "#fb9f3a"
             ],
             [
              0.8888888888888888,
              "#fdca26"
             ],
             [
              1,
              "#f0f921"
             ]
            ],
            "type": "histogram2d"
           }
          ],
          "histogram2dcontour": [
           {
            "colorbar": {
             "outlinewidth": 0,
             "ticks": ""
            },
            "colorscale": [
             [
              0,
              "#0d0887"
             ],
             [
              0.1111111111111111,
              "#46039f"
             ],
             [
              0.2222222222222222,
              "#7201a8"
             ],
             [
              0.3333333333333333,
              "#9c179e"
             ],
             [
              0.4444444444444444,
              "#bd3786"
             ],
             [
              0.5555555555555556,
              "#d8576b"
             ],
             [
              0.6666666666666666,
              "#ed7953"
             ],
             [
              0.7777777777777778,
              "#fb9f3a"
             ],
             [
              0.8888888888888888,
              "#fdca26"
             ],
             [
              1,
              "#f0f921"
             ]
            ],
            "type": "histogram2dcontour"
           }
          ],
          "mesh3d": [
           {
            "colorbar": {
             "outlinewidth": 0,
             "ticks": ""
            },
            "type": "mesh3d"
           }
          ],
          "parcoords": [
           {
            "line": {
             "colorbar": {
              "outlinewidth": 0,
              "ticks": ""
             }
            },
            "type": "parcoords"
           }
          ],
          "pie": [
           {
            "automargin": true,
            "type": "pie"
           }
          ],
          "scatter": [
           {
            "fillpattern": {
             "fillmode": "overlay",
             "size": 10,
             "solidity": 0.2
            },
            "type": "scatter"
           }
          ],
          "scatter3d": [
           {
            "line": {
             "colorbar": {
              "outlinewidth": 0,
              "ticks": ""
             }
            },
            "marker": {
             "colorbar": {
              "outlinewidth": 0,
              "ticks": ""
             }
            },
            "type": "scatter3d"
           }
          ],
          "scattercarpet": [
           {
            "marker": {
             "colorbar": {
              "outlinewidth": 0,
              "ticks": ""
             }
            },
            "type": "scattercarpet"
           }
          ],
          "scattergeo": [
           {
            "marker": {
             "colorbar": {
              "outlinewidth": 0,
              "ticks": ""
             }
            },
            "type": "scattergeo"
           }
          ],
          "scattergl": [
           {
            "marker": {
             "colorbar": {
              "outlinewidth": 0,
              "ticks": ""
             }
            },
            "type": "scattergl"
           }
          ],
          "scattermapbox": [
           {
            "marker": {
             "colorbar": {
              "outlinewidth": 0,
              "ticks": ""
             }
            },
            "type": "scattermapbox"
           }
          ],
          "scatterpolar": [
           {
            "marker": {
             "colorbar": {
              "outlinewidth": 0,
              "ticks": ""
             }
            },
            "type": "scatterpolar"
           }
          ],
          "scatterpolargl": [
           {
            "marker": {
             "colorbar": {
              "outlinewidth": 0,
              "ticks": ""
             }
            },
            "type": "scatterpolargl"
           }
          ],
          "scatterternary": [
           {
            "marker": {
             "colorbar": {
              "outlinewidth": 0,
              "ticks": ""
             }
            },
            "type": "scatterternary"
           }
          ],
          "surface": [
           {
            "colorbar": {
             "outlinewidth": 0,
             "ticks": ""
            },
            "colorscale": [
             [
              0,
              "#0d0887"
             ],
             [
              0.1111111111111111,
              "#46039f"
             ],
             [
              0.2222222222222222,
              "#7201a8"
             ],
             [
              0.3333333333333333,
              "#9c179e"
             ],
             [
              0.4444444444444444,
              "#bd3786"
             ],
             [
              0.5555555555555556,
              "#d8576b"
             ],
             [
              0.6666666666666666,
              "#ed7953"
             ],
             [
              0.7777777777777778,
              "#fb9f3a"
             ],
             [
              0.8888888888888888,
              "#fdca26"
             ],
             [
              1,
              "#f0f921"
             ]
            ],
            "type": "surface"
           }
          ],
          "table": [
           {
            "cells": {
             "fill": {
              "color": "#EBF0F8"
             },
             "line": {
              "color": "white"
             }
            },
            "header": {
             "fill": {
              "color": "#C8D4E3"
             },
             "line": {
              "color": "white"
             }
            },
            "type": "table"
           }
          ]
         },
         "layout": {
          "annotationdefaults": {
           "arrowcolor": "#2a3f5f",
           "arrowhead": 0,
           "arrowwidth": 1
          },
          "autotypenumbers": "strict",
          "coloraxis": {
           "colorbar": {
            "outlinewidth": 0,
            "ticks": ""
           }
          },
          "colorscale": {
           "diverging": [
            [
             0,
             "#8e0152"
            ],
            [
             0.1,
             "#c51b7d"
            ],
            [
             0.2,
             "#de77ae"
            ],
            [
             0.3,
             "#f1b6da"
            ],
            [
             0.4,
             "#fde0ef"
            ],
            [
             0.5,
             "#f7f7f7"
            ],
            [
             0.6,
             "#e6f5d0"
            ],
            [
             0.7,
             "#b8e186"
            ],
            [
             0.8,
             "#7fbc41"
            ],
            [
             0.9,
             "#4d9221"
            ],
            [
             1,
             "#276419"
            ]
           ],
           "sequential": [
            [
             0,
             "#0d0887"
            ],
            [
             0.1111111111111111,
             "#46039f"
            ],
            [
             0.2222222222222222,
             "#7201a8"
            ],
            [
             0.3333333333333333,
             "#9c179e"
            ],
            [
             0.4444444444444444,
             "#bd3786"
            ],
            [
             0.5555555555555556,
             "#d8576b"
            ],
            [
             0.6666666666666666,
             "#ed7953"
            ],
            [
             0.7777777777777778,
             "#fb9f3a"
            ],
            [
             0.8888888888888888,
             "#fdca26"
            ],
            [
             1,
             "#f0f921"
            ]
           ],
           "sequentialminus": [
            [
             0,
             "#0d0887"
            ],
            [
             0.1111111111111111,
             "#46039f"
            ],
            [
             0.2222222222222222,
             "#7201a8"
            ],
            [
             0.3333333333333333,
             "#9c179e"
            ],
            [
             0.4444444444444444,
             "#bd3786"
            ],
            [
             0.5555555555555556,
             "#d8576b"
            ],
            [
             0.6666666666666666,
             "#ed7953"
            ],
            [
             0.7777777777777778,
             "#fb9f3a"
            ],
            [
             0.8888888888888888,
             "#fdca26"
            ],
            [
             1,
             "#f0f921"
            ]
           ]
          },
          "colorway": [
           "#636efa",
           "#EF553B",
           "#00cc96",
           "#ab63fa",
           "#FFA15A",
           "#19d3f3",
           "#FF6692",
           "#B6E880",
           "#FF97FF",
           "#FECB52"
          ],
          "font": {
           "color": "#2a3f5f"
          },
          "geo": {
           "bgcolor": "white",
           "lakecolor": "white",
           "landcolor": "#E5ECF6",
           "showlakes": true,
           "showland": true,
           "subunitcolor": "white"
          },
          "hoverlabel": {
           "align": "left"
          },
          "hovermode": "closest",
          "mapbox": {
           "style": "light"
          },
          "paper_bgcolor": "white",
          "plot_bgcolor": "#E5ECF6",
          "polar": {
           "angularaxis": {
            "gridcolor": "white",
            "linecolor": "white",
            "ticks": ""
           },
           "bgcolor": "#E5ECF6",
           "radialaxis": {
            "gridcolor": "white",
            "linecolor": "white",
            "ticks": ""
           }
          },
          "scene": {
           "xaxis": {
            "backgroundcolor": "#E5ECF6",
            "gridcolor": "white",
            "gridwidth": 2,
            "linecolor": "white",
            "showbackground": true,
            "ticks": "",
            "zerolinecolor": "white"
           },
           "yaxis": {
            "backgroundcolor": "#E5ECF6",
            "gridcolor": "white",
            "gridwidth": 2,
            "linecolor": "white",
            "showbackground": true,
            "ticks": "",
            "zerolinecolor": "white"
           },
           "zaxis": {
            "backgroundcolor": "#E5ECF6",
            "gridcolor": "white",
            "gridwidth": 2,
            "linecolor": "white",
            "showbackground": true,
            "ticks": "",
            "zerolinecolor": "white"
           }
          },
          "shapedefaults": {
           "line": {
            "color": "#2a3f5f"
           }
          },
          "ternary": {
           "aaxis": {
            "gridcolor": "white",
            "linecolor": "white",
            "ticks": ""
           },
           "baxis": {
            "gridcolor": "white",
            "linecolor": "white",
            "ticks": ""
           },
           "bgcolor": "#E5ECF6",
           "caxis": {
            "gridcolor": "white",
            "linecolor": "white",
            "ticks": ""
           }
          },
          "title": {
           "x": 0.05
          },
          "xaxis": {
           "automargin": true,
           "gridcolor": "white",
           "linecolor": "white",
           "ticks": "",
           "title": {
            "standoff": 15
           },
           "zerolinecolor": "white",
           "zerolinewidth": 2
          },
          "yaxis": {
           "automargin": true,
           "gridcolor": "white",
           "linecolor": "white",
           "ticks": "",
           "title": {
            "standoff": 15
           },
           "zerolinecolor": "white",
           "zerolinewidth": 2
          }
         }
        },
        "width": 900,
        "xaxis": {
         "anchor": "y",
         "domain": [
          0,
          0.46
         ],
         "linecolor": "black",
         "linewidth": 2,
         "mirror": true,
         "range": [
          -0.45,
          5.45
         ],
         "showline": true,
         "tickfont": {
          "size": 22
         },
         "ticks": "outside",
         "ticktext": [
          "Subject 1",
          "Subject 2",
          "Subject 3",
          "Subject 4",
          "Subject 5",
          "Subject 6"
         ],
         "tickvals": [
          0,
          1,
          2,
          3,
          4,
          5
         ],
         "type": "linear"
        },
        "xaxis2": {
         "anchor": "y2",
         "domain": [
          0.54,
          1
         ],
         "linecolor": "black",
         "linewidth": 2,
         "mirror": true,
         "range": [
          -0.45,
          5.45
         ],
         "showgrid": false,
         "showline": true,
         "tickfont": {
          "size": 22
         },
         "ticks": "outside",
         "ticktext": [
          "Subject 1",
          "Subject 2",
          "Subject 3",
          "Subject 4",
          "Subject 5",
          "Subject 6"
         ],
         "tickvals": [
          0,
          1,
          2,
          3,
          4,
          5
         ],
         "type": "linear"
        },
        "xaxis3": {
         "anchor": "y3",
         "domain": [
          0,
          0.46
         ],
         "linecolor": "black",
         "linewidth": 2,
         "mirror": true,
         "range": [
          -0.45,
          5.45
         ],
         "showgrid": false,
         "showline": true,
         "tickfont": {
          "size": 22
         },
         "ticks": "outside",
         "ticktext": [
          "Subject 1",
          "Subject 2",
          "Subject 3",
          "Subject 4",
          "Subject 5",
          "Subject 6"
         ],
         "tickvals": [
          0,
          1,
          2,
          3,
          4,
          5
         ],
         "type": "linear"
        },
        "xaxis4": {
         "anchor": "y4",
         "domain": [
          0.54,
          1
         ],
         "linecolor": "black",
         "linewidth": 2,
         "mirror": true,
         "range": [
          -0.45,
          5.45
         ],
         "showgrid": false,
         "showline": true,
         "tickfont": {
          "size": 22
         },
         "ticks": "outside",
         "ticktext": [
          "Subject 1",
          "Subject 2",
          "Subject 3",
          "Subject 4",
          "Subject 5",
          "Subject 6"
         ],
         "tickvals": [
          0,
          1,
          2,
          3,
          4,
          5
         ],
         "type": "linear"
        },
        "yaxis": {
         "anchor": "x",
         "domain": [
          0.575,
          1
         ],
         "linecolor": "black",
         "linewidth": 2,
         "range": [
          0.702975,
          1.6706850000000002
         ],
         "showgrid": false,
         "title": {
          "standoff": 0,
          "text": "T<sub>1</sub> [s]"
         },
         "type": "linear"
        },
        "yaxis2": {
         "anchor": "x2",
         "domain": [
          0.575,
          1
         ],
         "linecolor": "black",
         "linewidth": 2,
         "range": [
          0.6595875,
          1.9791225000000001
         ],
         "showgrid": false,
         "title": {
          "standoff": 0,
          "text": "T<sub>1</sub> [s]"
         },
         "type": "linear"
        },
        "yaxis3": {
         "anchor": "x3",
         "domain": [
          0,
          0.425
         ],
         "linecolor": "black",
         "linewidth": 2,
         "range": [
          41.562974999999994,
          58.258725000000005
         ],
         "showgrid": false,
         "title": {
          "standoff": 0,
          "text": "T<sub>1</sub> [s]"
         },
         "type": "linear"
        },
        "yaxis4": {
         "anchor": "x4",
         "domain": [
          0,
          0.425
         ],
         "linecolor": "black",
         "linewidth": 2,
         "range": [
          0.7835249999999999,
          4.494975
         ],
         "showgrid": false,
         "title": {
          "standoff": 0,
          "text": "T<sub>1</sub> [s]"
         },
         "type": "linear"
        }
       }
      },
      "text/html": [
       "<div>                            <div id=\"925b6273-a2a4-4b2b-89fb-304df912fb57\" class=\"plotly-graph-div\" style=\"height:900px; width:900px;\"></div>            <script type=\"text/javascript\">                require([\"plotly\"], function(Plotly) {                    window.PLOTLYENV=window.PLOTLYENV || {};                                    if (document.getElementById(\"925b6273-a2a4-4b2b-89fb-304df912fb57\")) {                    Plotly.newPlot(                        \"925b6273-a2a4-4b2b-89fb-304df912fb57\",                        [{\"hovertemplate\":\"Mean : <i> %{y: .2f} </i> sec<br><b>%{text}</b>\",\"legendgroup\":\"group1\",\"marker\":{\"color\":\"rgb(31, 119, 180)\"},\"mode\":\"markers\",\"name\":\"White matter\",\"showlegend\":true,\"text\":[\"Session 1\",\"Session 2\",\"Session 3\",\"Session 4\",\"Session 5\",\"Session 6\",\"Session 7\",\"Session 8\",\"Session 9\",\"Session 10\"],\"visible\":true,\"x\":[-0.3,-0.23333333333333334,-0.16666666666666666,-0.09999999999999998,-0.033333333333333326,0.033333333333333326,0.10000000000000003,0.16666666666666669,0.23333333333333334,0.3],\"y\":[0.92743,0.92732,0.91885,0.91725,0.91934,0.91717,0.92319,0.923,-100,-100],\"type\":\"scatter\",\"xaxis\":\"x\",\"yaxis\":\"y\"},{\"hovertemplate\":\"Mean : <i> %{y: .2f} </i> sec<br><b>%{text}</b>\",\"legendgroup\":\"group1\",\"marker\":{\"color\":\"rgb(31, 119, 180)\"},\"mode\":\"markers\",\"name\":\"White matter\",\"showlegend\":false,\"text\":[\"Session 1\",\"Session 2\",\"Session 3\",\"Session 4\",\"Session 5\",\"Session 6\",\"Session 7\",\"Session 8\",\"Session 9\",\"Session 10\"],\"visible\":true,\"x\":[0.7,0.7666666666666666,0.8333333333333333,0.8999999999999999,0.9666666666666666,1.0333333333333332,1.1,1.1666666666666665,1.2333333333333334,1.2999999999999998],\"y\":[0.8869,0.88486,0.8771,0.88534,0.89563,0.89115,0.88244,0.8818,0.90359,0.88753],\"type\":\"scatter\",\"xaxis\":\"x\",\"yaxis\":\"y\"},{\"hovertemplate\":\"Mean : <i> %{y: .2f} </i> sec<br><b>%{text}</b>\",\"legendgroup\":\"group1\",\"marker\":{\"color\":\"rgb(31, 119, 180)\"},\"mode\":\"markers\",\"name\":\"White matter\",\"showlegend\":false,\"text\":[\"Session 1\",\"Session 2\",\"Session 3\",\"Session 4\",\"Session 5\",\"Session 6\",\"Session 7\",\"Session 8\",\"Session 9\",\"Session 10\"],\"visible\":true,\"x\":[1.7,1.7666666666666666,1.8333333333333333,1.9,1.9666666666666666,2.033333333333333,2.1,2.1666666666666665,2.2333333333333334,2.3],\"y\":[0.88656,0.8814,-100,0.8876,0.87688,0.87225,0.87227,0.87296,0.88223,0.87596],\"type\":\"scatter\",\"xaxis\":\"x\",\"yaxis\":\"y\"},{\"hovertemplate\":\"Mean : <i> %{y: .2f} </i> sec<br><b>%{text}</b>\",\"legendgroup\":\"group1\",\"marker\":{\"color\":\"rgb(31, 119, 180)\"},\"mode\":\"markers\",\"name\":\"White matter\",\"showlegend\":false,\"text\":[\"Session 1\",\"Session 2\",\"Session 3\",\"Session 4\",\"Session 5\",\"Session 6\",\"Session 7\",\"Session 8\",\"Session 9\",\"Session 10\"],\"visible\":true,\"x\":[2.7,2.766666666666667,2.8333333333333335,2.9000000000000004,2.966666666666667,3.0333333333333337,3.1,3.166666666666667,3.2333333333333334,3.3000000000000003],\"y\":[0.87092,0.86799,0.86731,0.86939,0.86426,-100,-100,-100,-100,-100],\"type\":\"scatter\",\"xaxis\":\"x\",\"yaxis\":\"y\"},{\"hovertemplate\":\"Mean : <i> %{y: .2f} </i> sec<br><b>%{text}</b>\",\"legendgroup\":\"group1\",\"marker\":{\"color\":\"rgb(31, 119, 180)\"},\"mode\":\"markers\",\"name\":\"White matter\",\"showlegend\":false,\"text\":[\"Session 1\",\"Session 2\",\"Session 3\",\"Session 4\",\"Session 5\",\"Session 6\",\"Session 7\",\"Session 8\",\"Session 9\",\"Session 10\"],\"visible\":true,\"x\":[3.7,3.766666666666667,3.8333333333333335,3.9000000000000004,3.966666666666667,4.033333333333333,4.1000000000000005,4.166666666666667,4.233333333333333,4.3],\"y\":[0.90864,0.89323,0.89025,0.89258,0.89091,0.89451,0.89931,0.89165,-100,-100],\"type\":\"scatter\",\"xaxis\":\"x\",\"yaxis\":\"y\"},{\"hovertemplate\":\"Mean : <i> %{y: .2f} </i> sec<br><b>%{text}</b>\",\"legendgroup\":\"group1\",\"marker\":{\"color\":\"rgb(31, 119, 180)\"},\"mode\":\"markers\",\"name\":\"White matter\",\"showlegend\":false,\"text\":[\"Session 1\",\"Session 2\",\"Session 3\",\"Session 4\",\"Session 5\",\"Session 6\",\"Session 7\",\"Session 8\",\"Session 9\",\"Session 10\"],\"visible\":true,\"x\":[4.7,4.766666666666667,4.833333333333334,4.9,4.966666666666667,5.033333333333333,5.1000000000000005,5.166666666666667,5.233333333333333,5.3],\"y\":[-100,-100,-100,0.88306,-100,0.89571,0.89935,0.88242,0.88717,-100],\"type\":\"scatter\",\"xaxis\":\"x\",\"yaxis\":\"y\"},{\"hovertemplate\":\"Mean : <i> %{y: .2f} </i><br><b>%{text}</b>\",\"legendgroup\":\"group1\",\"marker\":{\"color\":\"rgb(31, 119, 180)\"},\"mode\":\"markers\",\"name\":\"White matter\",\"showlegend\":false,\"text\":[\"Session 1\",\"Session 2\",\"Session 3\",\"Session 4\",\"Session 5\",\"Session 6\",\"Session 7\",\"Session 8\",\"Session 9\",\"Session 10\"],\"visible\":true,\"x\":[-0.3,-0.23333333333333334,-0.16666666666666666,-0.09999999999999998,-0.033333333333333326,0.033333333333333326,0.10000000000000003,0.16666666666666669,0.23333333333333334,0.3],\"y\":[0.99002,1.0075,1.0634,1.0564,1.0528,1.0497,1.0393,1.0494,-100,-100],\"type\":\"scatter\",\"xaxis\":\"x2\",\"yaxis\":\"y2\"},{\"hovertemplate\":\"Mean : <i> %{y: .2f} </i><br><b>%{text}</b>\",\"legendgroup\":\"group1\",\"marker\":{\"color\":\"rgb(31, 119, 180)\"},\"mode\":\"markers\",\"name\":\"White matter\",\"showlegend\":false,\"text\":[\"Session 1\",\"Session 2\",\"Session 3\",\"Session 4\",\"Session 5\",\"Session 6\",\"Session 7\",\"Session 8\",\"Session 9\",\"Session 10\"],\"visible\":true,\"x\":[0.7,0.7666666666666666,0.8333333333333333,0.8999999999999999,0.9666666666666666,1.0333333333333332,1.1,1.1666666666666665,1.2333333333333334,1.2999999999999998],\"y\":[0.96902,0.94426,0.9122,0.87951,0.90239,0.92388,0.88946,0.92588,0.94319,0.92881],\"type\":\"scatter\",\"xaxis\":\"x2\",\"yaxis\":\"y2\"},{\"hovertemplate\":\"Mean : <i> %{y: .2f} </i><br><b>%{text}</b>\",\"legendgroup\":\"group1\",\"marker\":{\"color\":\"rgb(31, 119, 180)\"},\"mode\":\"markers\",\"name\":\"White matter\",\"showlegend\":false,\"text\":[\"Session 1\",\"Session 2\",\"Session 3\",\"Session 4\",\"Session 5\",\"Session 6\",\"Session 7\",\"Session 8\",\"Session 9\",\"Session 10\"],\"visible\":true,\"x\":[1.7,1.7666666666666666,1.8333333333333333,1.9,1.9666666666666666,2.033333333333333,2.1,2.1666666666666665,2.2333333333333334,2.3],\"y\":[0.92755,0.94565,-100,0.98411,0.99982,1.0124,0.96606,0.98606,0.99144,0.97428],\"type\":\"scatter\",\"xaxis\":\"x2\",\"yaxis\":\"y2\"},{\"hovertemplate\":\"Mean : <i> %{y: .2f} </i><br><b>%{text}</b>\",\"legendgroup\":\"group1\",\"marker\":{\"color\":\"rgb(31, 119, 180)\"},\"mode\":\"markers\",\"name\":\"White matter\",\"showlegend\":false,\"text\":[\"Session 1\",\"Session 2\",\"Session 3\",\"Session 4\",\"Session 5\",\"Session 6\",\"Session 7\",\"Session 8\",\"Session 9\",\"Session 10\"],\"visible\":true,\"x\":[2.7,2.766666666666667,2.8333333333333335,2.9000000000000004,2.966666666666667,3.0333333333333337,3.1,3.166666666666667,3.2333333333333334,3.3000000000000003],\"y\":[1.0338,0.94578,0.99394,0.99015,0.99669,-100,-100,-100,-100,-100],\"type\":\"scatter\",\"xaxis\":\"x2\",\"yaxis\":\"y2\"},{\"hovertemplate\":\"Mean : <i> %{y: .2f} </i><br><b>%{text}</b>\",\"legendgroup\":\"group1\",\"marker\":{\"color\":\"rgb(31, 119, 180)\"},\"mode\":\"markers\",\"name\":\"White matter\",\"showlegend\":false,\"text\":[\"Session 1\",\"Session 2\",\"Session 3\",\"Session 4\",\"Session 5\",\"Session 6\",\"Session 7\",\"Session 8\",\"Session 9\",\"Session 10\"],\"visible\":true,\"x\":[3.7,3.766666666666667,3.8333333333333335,3.9000000000000004,3.966666666666667,4.033333333333333,4.1000000000000005,4.166666666666667,4.233333333333333,4.3],\"y\":[0.98206,0.99284,0.98787,1.0031,1.0006,0.99593,0.99724,0.99634,-100,-100],\"type\":\"scatter\",\"xaxis\":\"x2\",\"yaxis\":\"y2\"},{\"hovertemplate\":\"Mean : <i> %{y: .2f} </i><br><b>%{text}</b>\",\"legendgroup\":\"group1\",\"marker\":{\"color\":\"rgb(31, 119, 180)\"},\"mode\":\"markers\",\"name\":\"White matter\",\"showlegend\":false,\"text\":[\"Session 1\",\"Session 2\",\"Session 3\",\"Session 4\",\"Session 5\",\"Session 6\",\"Session 7\",\"Session 8\",\"Session 9\",\"Session 10\"],\"visible\":true,\"x\":[4.7,4.766666666666667,4.833333333333334,4.9,4.966666666666667,5.033333333333333,5.1000000000000005,5.166666666666667,5.233333333333333,5.3],\"y\":[-100,-100,-100,1.0268,-100,1.0111,0.95212,1.0173,0.97899,-100],\"type\":\"scatter\",\"xaxis\":\"x2\",\"yaxis\":\"y2\"},{\"hovertemplate\":\"Mean : <i> %{y: .2f} </i><br><b>%{text}</b>\",\"legendgroup\":\"group1\",\"marker\":{\"color\":\"rgb(31, 119, 180)\"},\"mode\":\"markers\",\"name\":\"White matter\",\"showlegend\":false,\"text\":[\"Session 1\",\"Session 2\",\"Session 3\",\"Session 4\",\"Session 5\",\"Session 6\",\"Session 7\",\"Session 8\",\"Session 9\",\"Session 10\"],\"visible\":true,\"x\":[-0.3,-0.23333333333333334,-0.16666666666666666,-0.09999999999999998,-0.033333333333333326,0.033333333333333326,0.10000000000000003,0.16666666666666669,0.23333333333333334,0.3],\"y\":[54.4942,54.6053,54.5545,54.8349,54.3868,54.8986,54.5286,53.8597,-100,-100],\"type\":\"scatter\",\"xaxis\":\"x3\",\"yaxis\":\"y3\"},{\"hovertemplate\":\"Mean : <i> %{y: .2f} </i><br><b>%{text}</b>\",\"legendgroup\":\"group1\",\"marker\":{\"color\":\"rgb(31, 119, 180)\"},\"mode\":\"markers\",\"name\":\"White matter\",\"showlegend\":false,\"text\":[\"Session 1\",\"Session 2\",\"Session 3\",\"Session 4\",\"Session 5\",\"Session 6\",\"Session 7\",\"Session 8\",\"Session 9\",\"Session 10\"],\"visible\":true,\"x\":[0.7,0.7666666666666666,0.8333333333333333,0.8999999999999999,0.9666666666666666,1.0333333333333332,1.1,1.1666666666666665,1.2333333333333334,1.2999999999999998],\"y\":[54.6534,54.6508,54.8205,54.7355,54.4465,54.7588,54.1679,54.5073,53.796,55.1437],\"type\":\"scatter\",\"xaxis\":\"x3\",\"yaxis\":\"y3\"},{\"hovertemplate\":\"Mean : <i> %{y: .2f} </i><br><b>%{text}</b>\",\"legendgroup\":\"group1\",\"marker\":{\"color\":\"rgb(31, 119, 180)\"},\"mode\":\"markers\",\"name\":\"White matter\",\"showlegend\":false,\"text\":[\"Session 1\",\"Session 2\",\"Session 3\",\"Session 4\",\"Session 5\",\"Session 6\",\"Session 7\",\"Session 8\",\"Session 9\",\"Session 10\"],\"visible\":true,\"x\":[1.7,1.7666666666666666,1.8333333333333333,1.9,1.9666666666666666,2.033333333333333,2.1,2.1666666666666665,2.2333333333333334,2.3],\"y\":[54.7458,55.0632,-100,55.3189,54.7074,55.2329,54.572,54.7739,55.418,55.3184],\"type\":\"scatter\",\"xaxis\":\"x3\",\"yaxis\":\"y3\"},{\"hovertemplate\":\"Mean : <i> %{y: .2f} </i><br><b>%{text}</b>\",\"legendgroup\":\"group1\",\"marker\":{\"color\":\"rgb(31, 119, 180)\"},\"mode\":\"markers\",\"name\":\"White matter\",\"showlegend\":false,\"text\":[\"Session 1\",\"Session 2\",\"Session 3\",\"Session 4\",\"Session 5\",\"Session 6\",\"Session 7\",\"Session 8\",\"Session 9\",\"Session 10\"],\"visible\":true,\"x\":[2.7,2.766666666666667,2.8333333333333335,2.9000000000000004,2.966666666666667,3.0333333333333337,3.1,3.166666666666667,3.2333333333333334,3.3000000000000003],\"y\":[54.8364,54.6888,55.4519,55.3967,55.4761,-100,-100,-100,-100,-100],\"type\":\"scatter\",\"xaxis\":\"x3\",\"yaxis\":\"y3\"},{\"hovertemplate\":\"Mean : <i> %{y: .2f} </i><br><b>%{text}</b>\",\"legendgroup\":\"group1\",\"marker\":{\"color\":\"rgb(31, 119, 180)\"},\"mode\":\"markers\",\"name\":\"White matter\",\"showlegend\":false,\"text\":[\"Session 1\",\"Session 2\",\"Session 3\",\"Session 4\",\"Session 5\",\"Session 6\",\"Session 7\",\"Session 8\",\"Session 9\",\"Session 10\"],\"visible\":true,\"x\":[3.7,3.766666666666667,3.8333333333333335,3.9000000000000004,3.966666666666667,4.033333333333333,4.1000000000000005,4.166666666666667,4.233333333333333,4.3],\"y\":[55.1695,54.9279,55.0109,54.3497,54.8059,54.5493,54.4189,55.1524,-100,-100],\"type\":\"scatter\",\"xaxis\":\"x3\",\"yaxis\":\"y3\"},{\"hovertemplate\":\"Mean : <i> %{y: .2f} </i><br><b>%{text}</b>\",\"legendgroup\":\"group1\",\"marker\":{\"color\":\"rgb(31, 119, 180)\"},\"mode\":\"markers\",\"name\":\"White matter\",\"showlegend\":false,\"text\":[\"Session 1\",\"Session 2\",\"Session 3\",\"Session 4\",\"Session 5\",\"Session 6\",\"Session 7\",\"Session 8\",\"Session 9\",\"Session 10\"],\"visible\":true,\"x\":[4.7,4.766666666666667,4.833333333333334,4.9,4.966666666666667,5.033333333333333,5.1000000000000005,5.166666666666667,5.233333333333333,5.3],\"y\":[-100,-100,-100,54.6168,-100,54.9743,53.7135,54.7795,54.9453,-100],\"type\":\"scatter\",\"xaxis\":\"x3\",\"yaxis\":\"y3\"},{\"hovertemplate\":\"Mean : <i> %{y: .2f} </i><br><b>%{text}</b>\",\"legendgroup\":\"group1\",\"marker\":{\"color\":\"rgb(31, 119, 180)\"},\"mode\":\"markers\",\"name\":\"White matter\",\"showlegend\":false,\"text\":[\"Session 1\",\"Session 2\",\"Session 3\",\"Session 4\",\"Session 5\",\"Session 6\",\"Session 7\",\"Session 8\",\"Session 9\",\"Session 10\"],\"visible\":true,\"x\":[-0.3,-0.23333333333333334,-0.16666666666666666,-0.09999999999999998,-0.033333333333333326,0.033333333333333326,0.10000000000000003,0.16666666666666669,0.23333333333333334,0.3],\"y\":[3.4958,3.5135,3.6475,3.6537,3.615,3.6577,3.6823,3.4385,-100,-100],\"type\":\"scatter\",\"xaxis\":\"x4\",\"yaxis\":\"y4\"},{\"hovertemplate\":\"Mean : <i> %{y: .2f} </i><br><b>%{text}</b>\",\"legendgroup\":\"group1\",\"marker\":{\"color\":\"rgb(31, 119, 180)\"},\"mode\":\"markers\",\"name\":\"White matter\",\"showlegend\":false,\"text\":[\"Session 1\",\"Session 2\",\"Session 3\",\"Session 4\",\"Session 5\",\"Session 6\",\"Session 7\",\"Session 8\",\"Session 9\",\"Session 10\"],\"visible\":true,\"x\":[0.7,0.7666666666666666,0.8333333333333333,0.8999999999999999,0.9666666666666666,1.0333333333333332,1.1,1.1666666666666665,1.2333333333333334,1.2999999999999998],\"y\":[3.6975,3.6885,3.6751,3.5358,3.6012,3.5788,3.6341,3.6577,3.4624,3.6361],\"type\":\"scatter\",\"xaxis\":\"x4\",\"yaxis\":\"y4\"},{\"hovertemplate\":\"Mean : <i> %{y: .2f} </i><br><b>%{text}</b>\",\"legendgroup\":\"group1\",\"marker\":{\"color\":\"rgb(31, 119, 180)\"},\"mode\":\"markers\",\"name\":\"White matter\",\"showlegend\":false,\"text\":[\"Session 1\",\"Session 2\",\"Session 3\",\"Session 4\",\"Session 5\",\"Session 6\",\"Session 7\",\"Session 8\",\"Session 9\",\"Session 10\"],\"visible\":true,\"x\":[1.7,1.7666666666666666,1.8333333333333333,1.9,1.9666666666666666,2.033333333333333,2.1,2.1666666666666665,2.2333333333333334,2.3],\"y\":[3.6622,3.7099,-100,3.7013,3.8085,3.8601,3.8399,3.6861,3.8072,3.8055],\"type\":\"scatter\",\"xaxis\":\"x4\",\"yaxis\":\"y4\"},{\"hovertemplate\":\"Mean : <i> %{y: .2f} </i><br><b>%{text}</b>\",\"legendgroup\":\"group1\",\"marker\":{\"color\":\"rgb(31, 119, 180)\"},\"mode\":\"markers\",\"name\":\"White matter\",\"showlegend\":false,\"text\":[\"Session 1\",\"Session 2\",\"Session 3\",\"Session 4\",\"Session 5\",\"Session 6\",\"Session 7\",\"Session 8\",\"Session 9\",\"Session 10\"],\"visible\":true,\"x\":[2.7,2.766666666666667,2.8333333333333335,2.9000000000000004,2.966666666666667,3.0333333333333337,3.1,3.166666666666667,3.2333333333333334,3.3000000000000003],\"y\":[3.7484,3.7953,3.7737,3.7703,3.8764,-100,-100,-100,-100,-100],\"type\":\"scatter\",\"xaxis\":\"x4\",\"yaxis\":\"y4\"},{\"hovertemplate\":\"Mean : <i> %{y: .2f} </i><br><b>%{text}</b>\",\"legendgroup\":\"group1\",\"marker\":{\"color\":\"rgb(31, 119, 180)\"},\"mode\":\"markers\",\"name\":\"White matter\",\"showlegend\":false,\"text\":[\"Session 1\",\"Session 2\",\"Session 3\",\"Session 4\",\"Session 5\",\"Session 6\",\"Session 7\",\"Session 8\",\"Session 9\",\"Session 10\"],\"visible\":true,\"x\":[3.7,3.766666666666667,3.8333333333333335,3.9000000000000004,3.966666666666667,4.033333333333333,4.1000000000000005,4.166666666666667,4.233333333333333,4.3],\"y\":[3.4726,3.6718,3.61,3.6395,3.6862,3.6343,3.5566,3.6271,-100,-100],\"type\":\"scatter\",\"xaxis\":\"x4\",\"yaxis\":\"y4\"},{\"hovertemplate\":\"Mean : <i> %{y: .2f} </i><br><b>%{text}</b>\",\"legendgroup\":\"group1\",\"marker\":{\"color\":\"rgb(31, 119, 180)\"},\"mode\":\"markers\",\"name\":\"White matter\",\"showlegend\":false,\"text\":[\"Session 1\",\"Session 2\",\"Session 3\",\"Session 4\",\"Session 5\",\"Session 6\",\"Session 7\",\"Session 8\",\"Session 9\",\"Session 10\"],\"visible\":true,\"x\":[4.7,4.766666666666667,4.833333333333334,4.9,4.966666666666667,5.033333333333333,5.1000000000000005,5.166666666666667,5.233333333333333,5.3],\"y\":[-100,-100,-100,3.7097,-100,3.7309,3.6869,3.7877,3.7445,-100],\"type\":\"scatter\",\"xaxis\":\"x4\",\"yaxis\":\"y4\"},{\"line\":{\"color\":\"rgb(31, 119, 180)\",\"dash\":\"dot\",\"width\":2},\"mode\":\"lines\",\"name\":\"White matter\",\"opacity\":0.5,\"showlegend\":false,\"visible\":true,\"x\":[-1,0,1,2,3,4,5,6],\"y\":[0.8912591,0.8912591,0.8912591,0.8912591,0.8912591,0.8912591,0.8912591,0.8912591],\"type\":\"scatter\",\"xaxis\":\"x\",\"yaxis\":\"y\"},{\"line\":{\"color\":\"rgb(31, 119, 180)\",\"dash\":\"dot\",\"width\":2},\"mode\":\"lines\",\"name\":\"White matter\",\"opacity\":0.5,\"showlegend\":false,\"visible\":true,\"x\":[-1,0,1,2,3,4,5,6],\"y\":[0.9826031,0.9826031,0.9826031,0.9826031,0.9826031,0.9826031,0.9826031,0.9826031],\"type\":\"scatter\",\"xaxis\":\"x2\",\"yaxis\":\"y2\"},{\"line\":{\"color\":\"rgb(31, 119, 180)\",\"dash\":\"dot\",\"width\":2},\"mode\":\"lines\",\"name\":\"White matter\",\"opacity\":0.5,\"showlegend\":false,\"visible\":true,\"x\":[-1,0,1,2,3,4,5,6],\"y\":[54.7612733,54.7612733,54.7612733,54.7612733,54.7612733,54.7612733,54.7612733,54.7612733],\"type\":\"scatter\",\"xaxis\":\"x3\",\"yaxis\":\"y3\"},{\"line\":{\"color\":\"rgb(31, 119, 180)\",\"dash\":\"dot\",\"width\":2},\"mode\":\"lines\",\"name\":\"White matter\",\"opacity\":0.5,\"showlegend\":false,\"visible\":true,\"x\":[-1,0,1,2,3,4,5,6],\"y\":[3.6727511,3.6727511,3.6727511,3.6727511,3.6727511,3.6727511,3.6727511,3.6727511],\"type\":\"scatter\",\"xaxis\":\"x4\",\"yaxis\":\"y4\"},{\"fill\":\"toself\",\"fillcolor\":\"rgba(31, 119, 180, 0.15)\",\"hoverinfo\":\"skip\",\"line\":{\"color\":\"rgba(255,255,255,0)\"},\"showlegend\":false,\"visible\":true,\"x\":[-1,0,1,2,3,4,5,6,6,5,4,3,2,1,0,-1],\"y\":[0.9084247999999999,0.9084247999999999,0.9084247999999999,0.9084247999999999,0.9084247999999999,0.9084247999999999,0.9084247999999999,0.9084247999999999,0.8740934,0.8740934,0.8740934,0.8740934,0.8740934,0.8740934,0.8740934,0.8740934],\"type\":\"scatter\",\"xaxis\":\"x\",\"yaxis\":\"y\"},{\"fill\":\"toself\",\"fillcolor\":\"rgba(31, 119, 180, 0.15)\",\"hoverinfo\":\"skip\",\"line\":{\"color\":\"rgba(255,255,255,0)\"},\"showlegend\":false,\"visible\":true,\"x\":[-1,0,1,2,3,4,5,6,6,5,4,3,2,1,0,-1],\"y\":[1.0273153,1.0273153,1.0273153,1.0273153,1.0273153,1.0273153,1.0273153,1.0273153,0.9378909,0.9378909,0.9378909,0.9378909,0.9378909,0.9378909,0.9378909,0.9378909],\"type\":\"scatter\",\"xaxis\":\"x2\",\"yaxis\":\"y2\"},{\"fill\":\"toself\",\"fillcolor\":\"rgba(31, 119, 180, 0.15)\",\"hoverinfo\":\"skip\",\"line\":{\"color\":\"rgba(255,255,255,0)\"},\"showlegend\":false,\"visible\":true,\"x\":[-1,0,1,2,3,4,5,6,6,5,4,3,2,1,0,-1],\"y\":[55.1706377,55.1706377,55.1706377,55.1706377,55.1706377,55.1706377,55.1706377,55.1706377,54.3519089,54.3519089,54.3519089,54.3519089,54.3519089,54.3519089,54.3519089,54.3519089],\"type\":\"scatter\",\"xaxis\":\"x3\",\"yaxis\":\"y3\"},{\"fill\":\"toself\",\"fillcolor\":\"rgba(31, 119, 180, 0.15)\",\"hoverinfo\":\"skip\",\"line\":{\"color\":\"rgba(255,255,255,0)\"},\"showlegend\":false,\"visible\":true,\"x\":[-1,0,1,2,3,4,5,6,6,5,4,3,2,1,0,-1],\"y\":[3.7764918,3.7764918,3.7764918,3.7764918,3.7764918,3.7764918,3.7764918,3.7764918,3.5690104000000002,3.5690104000000002,3.5690104000000002,3.5690104000000002,3.5690104000000002,3.5690104000000002,3.5690104000000002,3.5690104000000002],\"type\":\"scatter\",\"xaxis\":\"x4\",\"yaxis\":\"y4\"},{\"hovertemplate\":\"Mean : <i> %{y: .2f} </i> sec<br><b>%{text}</b>\",\"legendgroup\":\"group2\",\"marker\":{\"color\":\"rgb(190, 77, 80)\"},\"mode\":\"markers\",\"name\":\"Grey matter\",\"showlegend\":true,\"text\":[\"Session 1\",\"Session 2\",\"Session 3\",\"Session 4\",\"Session 5\",\"Session 6\",\"Session 7\",\"Session 8\",\"Session 9\",\"Session 10\"],\"visible\":true,\"x\":[-0.3,-0.23333333333333334,-0.16666666666666666,-0.09999999999999998,-0.033333333333333326,0.033333333333333326,0.10000000000000003,0.16666666666666669,0.23333333333333334,0.3],\"y\":[1.5023,1.4887,1.5068,1.5041,1.4944,1.4952,1.5011,1.5004,-100,-100],\"type\":\"scatter\",\"xaxis\":\"x\",\"yaxis\":\"y\"},{\"hovertemplate\":\"Mean : <i> %{y: .2f} </i> sec<br><b>%{text}</b>\",\"legendgroup\":\"group2\",\"marker\":{\"color\":\"rgb(190, 77, 80)\"},\"mode\":\"markers\",\"name\":\"Grey matter\",\"showlegend\":false,\"text\":[\"Session 1\",\"Session 2\",\"Session 3\",\"Session 4\",\"Session 5\",\"Session 6\",\"Session 7\",\"Session 8\",\"Session 9\",\"Session 10\"],\"visible\":true,\"x\":[0.7,0.7666666666666666,0.8333333333333333,0.8999999999999999,0.9666666666666666,1.0333333333333332,1.1,1.1666666666666665,1.2333333333333334,1.2999999999999998],\"y\":[1.4577,1.4571,1.4553,1.4479,1.4526,1.4575,1.4666,1.4534,1.4422,1.4725],\"type\":\"scatter\",\"xaxis\":\"x\",\"yaxis\":\"y\"},{\"hovertemplate\":\"Mean : <i> %{y: .2f} </i> sec<br><b>%{text}</b>\",\"legendgroup\":\"group2\",\"marker\":{\"color\":\"rgb(190, 77, 80)\"},\"mode\":\"markers\",\"name\":\"Grey matter\",\"showlegend\":false,\"text\":[\"Session 1\",\"Session 2\",\"Session 3\",\"Session 4\",\"Session 5\",\"Session 6\",\"Session 7\",\"Session 8\",\"Session 9\",\"Session 10\"],\"visible\":true,\"x\":[1.7,1.7666666666666666,1.8333333333333333,1.9,1.9666666666666666,2.033333333333333,2.1,2.1666666666666665,2.2333333333333334,2.3],\"y\":[1.4857,1.4895,-100,1.4891,1.4937,1.4841,1.4856,1.4841,1.4824,1.4821],\"type\":\"scatter\",\"xaxis\":\"x\",\"yaxis\":\"y\"},{\"hovertemplate\":\"Mean : <i> %{y: .2f} </i> sec<br><b>%{text}</b>\",\"legendgroup\":\"group2\",\"marker\":{\"color\":\"rgb(190, 77, 80)\"},\"mode\":\"markers\",\"name\":\"Grey matter\",\"showlegend\":false,\"text\":[\"Session 1\",\"Session 2\",\"Session 3\",\"Session 4\",\"Session 5\",\"Session 6\",\"Session 7\",\"Session 8\",\"Session 9\",\"Session 10\"],\"visible\":true,\"x\":[2.7,2.766666666666667,2.8333333333333335,2.9000000000000004,2.966666666666667,3.0333333333333337,3.1,3.166666666666667,3.2333333333333334,3.3000000000000003],\"y\":[1.4887,1.4864,1.492,1.4858,1.4849,-100,-100,-100,-100,-100],\"type\":\"scatter\",\"xaxis\":\"x\",\"yaxis\":\"y\"},{\"hovertemplate\":\"Mean : <i> %{y: .2f} </i> sec<br><b>%{text}</b>\",\"legendgroup\":\"group2\",\"marker\":{\"color\":\"rgb(190, 77, 80)\"},\"mode\":\"markers\",\"name\":\"Grey matter\",\"showlegend\":false,\"text\":[\"Session 1\",\"Session 2\",\"Session 3\",\"Session 4\",\"Session 5\",\"Session 6\",\"Session 7\",\"Session 8\",\"Session 9\",\"Session 10\"],\"visible\":true,\"x\":[3.7,3.766666666666667,3.8333333333333335,3.9000000000000004,3.966666666666667,4.033333333333333,4.1000000000000005,4.166666666666667,4.233333333333333,4.3],\"y\":[1.4853,1.4829,1.4718,1.4833,1.4736,1.4754,1.4858,1.4698,-100,-100],\"type\":\"scatter\",\"xaxis\":\"x\",\"yaxis\":\"y\"},{\"hovertemplate\":\"Mean : <i> %{y: .2f} </i> sec<br><b>%{text}</b>\",\"legendgroup\":\"group2\",\"marker\":{\"color\":\"rgb(190, 77, 80)\"},\"mode\":\"markers\",\"name\":\"Grey matter\",\"showlegend\":false,\"text\":[\"Session 1\",\"Session 2\",\"Session 3\",\"Session 4\",\"Session 5\",\"Session 6\",\"Session 7\",\"Session 8\",\"Session 9\",\"Session 10\"],\"visible\":true,\"x\":[4.7,4.766666666666667,4.833333333333334,4.9,4.966666666666667,5.033333333333333,5.1000000000000005,5.166666666666667,5.233333333333333,5.3],\"y\":[-100,-100,-100,1.5044,-100,1.5067,1.4942,1.5094,1.5004,-100],\"type\":\"scatter\",\"xaxis\":\"x\",\"yaxis\":\"y\"},{\"hovertemplate\":\"Mean : <i> %{y: .2f} </i><br><b>%{text}</b>\",\"legendgroup\":\"group2\",\"marker\":{\"color\":\"rgb(190, 77, 80)\"},\"mode\":\"markers\",\"name\":\"Grey matter\",\"showlegend\":false,\"text\":[\"Session 1\",\"Session 2\",\"Session 3\",\"Session 4\",\"Session 5\",\"Session 6\",\"Session 7\",\"Session 8\",\"Session 9\",\"Session 10\"],\"visible\":true,\"x\":[-0.3,-0.23333333333333334,-0.16666666666666666,-0.09999999999999998,-0.033333333333333326,0.033333333333333326,0.10000000000000003,0.16666666666666669,0.23333333333333334,0.3],\"y\":[1.5428,1.5987,1.658,1.5843,1.5902,1.5977,1.6297,1.6305,-100,-100],\"type\":\"scatter\",\"xaxis\":\"x2\",\"yaxis\":\"y2\"},{\"hovertemplate\":\"Mean : <i> %{y: .2f} </i><br><b>%{text}</b>\",\"legendgroup\":\"group2\",\"marker\":{\"color\":\"rgb(190, 77, 80)\"},\"mode\":\"markers\",\"name\":\"Grey matter\",\"showlegend\":false,\"text\":[\"Session 1\",\"Session 2\",\"Session 3\",\"Session 4\",\"Session 5\",\"Session 6\",\"Session 7\",\"Session 8\",\"Session 9\",\"Session 10\"],\"visible\":true,\"x\":[0.7,0.7666666666666666,0.8333333333333333,0.8999999999999999,0.9666666666666666,1.0333333333333332,1.1,1.1666666666666665,1.2333333333333334,1.2999999999999998],\"y\":[1.5887,1.4959,1.3363,1.2372,1.4103,1.379,1.4576,1.3968,1.461,1.3865],\"type\":\"scatter\",\"xaxis\":\"x2\",\"yaxis\":\"y2\"},{\"hovertemplate\":\"Mean : <i> %{y: .2f} </i><br><b>%{text}</b>\",\"legendgroup\":\"group2\",\"marker\":{\"color\":\"rgb(190, 77, 80)\"},\"mode\":\"markers\",\"name\":\"Grey matter\",\"showlegend\":false,\"text\":[\"Session 1\",\"Session 2\",\"Session 3\",\"Session 4\",\"Session 5\",\"Session 6\",\"Session 7\",\"Session 8\",\"Session 9\",\"Session 10\"],\"visible\":true,\"x\":[1.7,1.7666666666666666,1.8333333333333333,1.9,1.9666666666666666,2.033333333333333,2.1,2.1666666666666665,2.2333333333333334,2.3],\"y\":[1.5771,1.6021,-100,1.6057,1.6272,1.6535,1.5686,1.5838,1.6274,1.5589],\"type\":\"scatter\",\"xaxis\":\"x2\",\"yaxis\":\"y2\"},{\"hovertemplate\":\"Mean : <i> %{y: .2f} </i><br><b>%{text}</b>\",\"legendgroup\":\"group2\",\"marker\":{\"color\":\"rgb(190, 77, 80)\"},\"mode\":\"markers\",\"name\":\"Grey matter\",\"showlegend\":false,\"text\":[\"Session 1\",\"Session 2\",\"Session 3\",\"Session 4\",\"Session 5\",\"Session 6\",\"Session 7\",\"Session 8\",\"Session 9\",\"Session 10\"],\"visible\":true,\"x\":[2.7,2.766666666666667,2.8333333333333335,2.9000000000000004,2.966666666666667,3.0333333333333337,3.1,3.166666666666667,3.2333333333333334,3.3000000000000003],\"y\":[1.6457,1.6051,1.6961,1.7059,1.7119,-100,-100,-100,-100,-100],\"type\":\"scatter\",\"xaxis\":\"x2\",\"yaxis\":\"y2\"},{\"hovertemplate\":\"Mean : <i> %{y: .2f} </i><br><b>%{text}</b>\",\"legendgroup\":\"group2\",\"marker\":{\"color\":\"rgb(190, 77, 80)\"},\"mode\":\"markers\",\"name\":\"Grey matter\",\"showlegend\":false,\"text\":[\"Session 1\",\"Session 2\",\"Session 3\",\"Session 4\",\"Session 5\",\"Session 6\",\"Session 7\",\"Session 8\",\"Session 9\",\"Session 10\"],\"visible\":true,\"x\":[3.7,3.766666666666667,3.8333333333333335,3.9000000000000004,3.966666666666667,4.033333333333333,4.1000000000000005,4.166666666666667,4.233333333333333,4.3],\"y\":[1.7113,1.719,1.6564,1.7215,1.6973,1.6871,1.7592,1.6645,-100,-100],\"type\":\"scatter\",\"xaxis\":\"x2\",\"yaxis\":\"y2\"},{\"hovertemplate\":\"Mean : <i> %{y: .2f} </i><br><b>%{text}</b>\",\"legendgroup\":\"group2\",\"marker\":{\"color\":\"rgb(190, 77, 80)\"},\"mode\":\"markers\",\"name\":\"Grey matter\",\"showlegend\":false,\"text\":[\"Session 1\",\"Session 2\",\"Session 3\",\"Session 4\",\"Session 5\",\"Session 6\",\"Session 7\",\"Session 8\",\"Session 9\",\"Session 10\"],\"visible\":true,\"x\":[4.7,4.766666666666667,4.833333333333334,4.9,4.966666666666667,5.033333333333333,5.1000000000000005,5.166666666666667,5.233333333333333,5.3],\"y\":[-100,-100,-100,1.661,-100,1.6137,1.5064,1.6931,1.5941,-100],\"type\":\"scatter\",\"xaxis\":\"x2\",\"yaxis\":\"y2\"},{\"hovertemplate\":\"Mean : <i> %{y: .2f} </i><br><b>%{text}</b>\",\"legendgroup\":\"group2\",\"marker\":{\"color\":\"rgb(190, 77, 80)\"},\"mode\":\"markers\",\"name\":\"Grey matter\",\"showlegend\":false,\"text\":[\"Session 1\",\"Session 2\",\"Session 3\",\"Session 4\",\"Session 5\",\"Session 6\",\"Session 7\",\"Session 8\",\"Session 9\",\"Session 10\"],\"visible\":true,\"x\":[-0.3,-0.23333333333333334,-0.16666666666666666,-0.09999999999999998,-0.033333333333333326,0.033333333333333326,0.10000000000000003,0.16666666666666669,0.23333333333333334,0.3],\"y\":[45.0812,45.5076,45.2895,45.7748,45.4781,46.0801,45.8098,45.3687,-100,-100],\"type\":\"scatter\",\"xaxis\":\"x3\",\"yaxis\":\"y3\"},{\"hovertemplate\":\"Mean : <i> %{y: .2f} </i><br><b>%{text}</b>\",\"legendgroup\":\"group2\",\"marker\":{\"color\":\"rgb(190, 77, 80)\"},\"mode\":\"markers\",\"name\":\"Grey matter\",\"showlegend\":false,\"text\":[\"Session 1\",\"Session 2\",\"Session 3\",\"Session 4\",\"Session 5\",\"Session 6\",\"Session 7\",\"Session 8\",\"Session 9\",\"Session 10\"],\"visible\":true,\"x\":[0.7,0.7666666666666666,0.8333333333333333,0.8999999999999999,0.9666666666666666,1.0333333333333332,1.1,1.1666666666666665,1.2333333333333334,1.2999999999999998],\"y\":[46.4425,46.7884,47.0675,47.1009,46.4611,46.898,46.1201,46.7716,45.8107,47.0788],\"type\":\"scatter\",\"xaxis\":\"x3\",\"yaxis\":\"y3\"},{\"hovertemplate\":\"Mean : <i> %{y: .2f} </i><br><b>%{text}</b>\",\"legendgroup\":\"group2\",\"marker\":{\"color\":\"rgb(190, 77, 80)\"},\"mode\":\"markers\",\"name\":\"Grey matter\",\"showlegend\":false,\"text\":[\"Session 1\",\"Session 2\",\"Session 3\",\"Session 4\",\"Session 5\",\"Session 6\",\"Session 7\",\"Session 8\",\"Session 9\",\"Session 10\"],\"visible\":true,\"x\":[1.7,1.7666666666666666,1.8333333333333333,1.9,1.9666666666666666,2.033333333333333,2.1,2.1666666666666665,2.2333333333333334,2.3],\"y\":[45.3981,45.4776,-100,46.2824,45.5253,46.0085,45.3768,45.5326,46.1268,45.9066],\"type\":\"scatter\",\"xaxis\":\"x3\",\"yaxis\":\"y3\"},{\"hovertemplate\":\"Mean : <i> %{y: .2f} </i><br><b>%{text}</b>\",\"legendgroup\":\"group2\",\"marker\":{\"color\":\"rgb(190, 77, 80)\"},\"mode\":\"markers\",\"name\":\"Grey matter\",\"showlegend\":false,\"text\":[\"Session 1\",\"Session 2\",\"Session 3\",\"Session 4\",\"Session 5\",\"Session 6\",\"Session 7\",\"Session 8\",\"Session 9\",\"Session 10\"],\"visible\":true,\"x\":[2.7,2.766666666666667,2.8333333333333335,2.9000000000000004,2.966666666666667,3.0333333333333337,3.1,3.166666666666667,3.2333333333333334,3.3000000000000003],\"y\":[46.2817,46.2617,46.9595,46.9385,46.7142,-100,-100,-100,-100,-100],\"type\":\"scatter\",\"xaxis\":\"x3\",\"yaxis\":\"y3\"},{\"hovertemplate\":\"Mean : <i> %{y: .2f} </i><br><b>%{text}</b>\",\"legendgroup\":\"group2\",\"marker\":{\"color\":\"rgb(190, 77, 80)\"},\"mode\":\"markers\",\"name\":\"Grey matter\",\"showlegend\":false,\"text\":[\"Session 1\",\"Session 2\",\"Session 3\",\"Session 4\",\"Session 5\",\"Session 6\",\"Session 7\",\"Session 8\",\"Session 9\",\"Session 10\"],\"visible\":true,\"x\":[3.7,3.766666666666667,3.8333333333333335,3.9000000000000004,3.966666666666667,4.033333333333333,4.1000000000000005,4.166666666666667,4.233333333333333,4.3],\"y\":[46.795,46.5593,46.6798,46.3935,46.6239,46.283,45.9737,46.8907,-100,-100],\"type\":\"scatter\",\"xaxis\":\"x3\",\"yaxis\":\"y3\"},{\"hovertemplate\":\"Mean : <i> %{y: .2f} </i><br><b>%{text}</b>\",\"legendgroup\":\"group2\",\"marker\":{\"color\":\"rgb(190, 77, 80)\"},\"mode\":\"markers\",\"name\":\"Grey matter\",\"showlegend\":false,\"text\":[\"Session 1\",\"Session 2\",\"Session 3\",\"Session 4\",\"Session 5\",\"Session 6\",\"Session 7\",\"Session 8\",\"Session 9\",\"Session 10\"],\"visible\":true,\"x\":[4.7,4.766666666666667,4.833333333333334,4.9,4.966666666666667,5.033333333333333,5.1000000000000005,5.166666666666667,5.233333333333333,5.3],\"y\":[-100,-100,-100,45.5065,-100,45.8927,44.3456,45.493,45.6576,-100],\"type\":\"scatter\",\"xaxis\":\"x3\",\"yaxis\":\"y3\"},{\"hovertemplate\":\"Mean : <i> %{y: .2f} </i><br><b>%{text}</b>\",\"legendgroup\":\"group2\",\"marker\":{\"color\":\"rgb(190, 77, 80)\"},\"mode\":\"markers\",\"name\":\"Grey matter\",\"showlegend\":false,\"text\":[\"Session 1\",\"Session 2\",\"Session 3\",\"Session 4\",\"Session 5\",\"Session 6\",\"Session 7\",\"Session 8\",\"Session 9\",\"Session 10\"],\"visible\":true,\"x\":[-0.3,-0.23333333333333334,-0.16666666666666666,-0.09999999999999998,-0.033333333333333326,0.033333333333333326,0.10000000000000003,0.16666666666666669,0.23333333333333334,0.3],\"y\":[1.6323,1.6849,1.7047,1.6863,1.7095,1.7062,1.7394,1.6604,-100,-100],\"type\":\"scatter\",\"xaxis\":\"x4\",\"yaxis\":\"y4\"},{\"hovertemplate\":\"Mean : <i> %{y: .2f} </i><br><b>%{text}</b>\",\"legendgroup\":\"group2\",\"marker\":{\"color\":\"rgb(190, 77, 80)\"},\"mode\":\"markers\",\"name\":\"Grey matter\",\"showlegend\":false,\"text\":[\"Session 1\",\"Session 2\",\"Session 3\",\"Session 4\",\"Session 5\",\"Session 6\",\"Session 7\",\"Session 8\",\"Session 9\",\"Session 10\"],\"visible\":true,\"x\":[0.7,0.7666666666666666,0.8333333333333333,0.8999999999999999,0.9666666666666666,1.0333333333333332,1.1,1.1666666666666665,1.2333333333333334,1.2999999999999998],\"y\":[1.6956,1.6398,1.5237,1.4021,1.5183,1.4932,1.6515,1.5909,1.5041,1.5234],\"type\":\"scatter\",\"xaxis\":\"x4\",\"yaxis\":\"y4\"},{\"hovertemplate\":\"Mean : <i> %{y: .2f} </i><br><b>%{text}</b>\",\"legendgroup\":\"group2\",\"marker\":{\"color\":\"rgb(190, 77, 80)\"},\"mode\":\"markers\",\"name\":\"Grey matter\",\"showlegend\":false,\"text\":[\"Session 1\",\"Session 2\",\"Session 3\",\"Session 4\",\"Session 5\",\"Session 6\",\"Session 7\",\"Session 8\",\"Session 9\",\"Session 10\"],\"visible\":true,\"x\":[1.7,1.7666666666666666,1.8333333333333333,1.9,1.9666666666666666,2.033333333333333,2.1,2.1666666666666665,2.2333333333333334,2.3],\"y\":[1.6625,1.6653,-100,1.6277,1.7061,1.7502,1.678,1.6198,1.6645,1.6202],\"type\":\"scatter\",\"xaxis\":\"x4\",\"yaxis\":\"y4\"},{\"hovertemplate\":\"Mean : <i> %{y: .2f} </i><br><b>%{text}</b>\",\"legendgroup\":\"group2\",\"marker\":{\"color\":\"rgb(190, 77, 80)\"},\"mode\":\"markers\",\"name\":\"Grey matter\",\"showlegend\":false,\"text\":[\"Session 1\",\"Session 2\",\"Session 3\",\"Session 4\",\"Session 5\",\"Session 6\",\"Session 7\",\"Session 8\",\"Session 9\",\"Session 10\"],\"visible\":true,\"x\":[2.7,2.766666666666667,2.8333333333333335,2.9000000000000004,2.966666666666667,3.0333333333333337,3.1,3.166666666666667,3.2333333333333334,3.3000000000000003],\"y\":[1.6873,1.7987,1.7839,1.8057,1.8233,-100,-100,-100,-100,-100],\"type\":\"scatter\",\"xaxis\":\"x4\",\"yaxis\":\"y4\"},{\"hovertemplate\":\"Mean : <i> %{y: .2f} </i><br><b>%{text}</b>\",\"legendgroup\":\"group2\",\"marker\":{\"color\":\"rgb(190, 77, 80)\"},\"mode\":\"markers\",\"name\":\"Grey matter\",\"showlegend\":false,\"text\":[\"Session 1\",\"Session 2\",\"Session 3\",\"Session 4\",\"Session 5\",\"Session 6\",\"Session 7\",\"Session 8\",\"Session 9\",\"Session 10\"],\"visible\":true,\"x\":[3.7,3.766666666666667,3.8333333333333335,3.9000000000000004,3.966666666666667,4.033333333333333,4.1000000000000005,4.166666666666667,4.233333333333333,4.3],\"y\":[1.6819,1.7585,1.7303,1.787,1.7839,1.7543,1.7477,1.7097,-100,-100],\"type\":\"scatter\",\"xaxis\":\"x4\",\"yaxis\":\"y4\"},{\"hovertemplate\":\"Mean : <i> %{y: .2f} </i><br><b>%{text}</b>\",\"legendgroup\":\"group2\",\"marker\":{\"color\":\"rgb(190, 77, 80)\"},\"mode\":\"markers\",\"name\":\"Grey matter\",\"showlegend\":false,\"text\":[\"Session 1\",\"Session 2\",\"Session 3\",\"Session 4\",\"Session 5\",\"Session 6\",\"Session 7\",\"Session 8\",\"Session 9\",\"Session 10\"],\"visible\":true,\"x\":[4.7,4.766666666666667,4.833333333333334,4.9,4.966666666666667,5.033333333333333,5.1000000000000005,5.166666666666667,5.233333333333333,5.3],\"y\":[-100,-100,-100,1.6448,-100,1.614,1.564,1.6659,1.6208,-100],\"type\":\"scatter\",\"xaxis\":\"x4\",\"yaxis\":\"y4\"},{\"line\":{\"color\":\"rgb(190, 77, 80)\",\"dash\":\"dot\",\"width\":2},\"mode\":\"lines\",\"name\":\"Grey matter\",\"opacity\":0.5,\"showlegend\":false,\"visible\":true,\"x\":[-1,0,1,2,3,4,5,6],\"y\":[1.4825089,1.4825089,1.4825089,1.4825089,1.4825089,1.4825089,1.4825089,1.4825089],\"type\":\"scatter\",\"xaxis\":\"x\",\"yaxis\":\"y\"},{\"line\":{\"color\":\"rgb(190, 77, 80)\",\"dash\":\"dot\",\"width\":2},\"mode\":\"lines\",\"name\":\"Grey matter\",\"opacity\":0.5,\"showlegend\":false,\"visible\":true,\"x\":[-1,0,1,2,3,4,5,6],\"y\":[1.58744,1.58744,1.58744,1.58744,1.58744,1.58744,1.58744,1.58744],\"type\":\"scatter\",\"xaxis\":\"x2\",\"yaxis\":\"y2\"},{\"line\":{\"color\":\"rgb(190, 77, 80)\",\"dash\":\"dot\",\"width\":2},\"mode\":\"lines\",\"name\":\"Grey matter\",\"opacity\":0.5,\"showlegend\":false,\"visible\":true,\"x\":[-1,0,1,2,3,4,5,6],\"y\":[46.1069778,46.1069778,46.1069778,46.1069778,46.1069778,46.1069778,46.1069778,46.1069778],\"type\":\"scatter\",\"xaxis\":\"x3\",\"yaxis\":\"y3\"},{\"line\":{\"color\":\"rgb(190, 77, 80)\",\"dash\":\"dot\",\"width\":2},\"mode\":\"lines\",\"name\":\"Grey matter\",\"opacity\":0.5,\"showlegend\":false,\"visible\":true,\"x\":[-1,0,1,2,3,4,5,6],\"y\":[1.6671622,1.6671622,1.6671622,1.6671622,1.6671622,1.6671622,1.6671622,1.6671622],\"type\":\"scatter\",\"xaxis\":\"x4\",\"yaxis\":\"y4\"},{\"fill\":\"toself\",\"fillcolor\":\"rgba(190, 77, 80, 0.15)\",\"hoverinfo\":\"skip\",\"line\":{\"color\":\"rgba(255,255,255,0)\"},\"showlegend\":false,\"visible\":true,\"x\":[-1,0,1,2,3,4,5,6,6,5,4,3,2,1,0,-1],\"y\":[1.4995523,1.4995523,1.4995523,1.4995523,1.4995523,1.4995523,1.4995523,1.4995523,1.4654655,1.4654655,1.4654655,1.4654655,1.4654655,1.4654655,1.4654655,1.4654655],\"type\":\"scatter\",\"xaxis\":\"x\",\"yaxis\":\"y\"},{\"fill\":\"toself\",\"fillcolor\":\"rgba(190, 77, 80, 0.15)\",\"hoverinfo\":\"skip\",\"line\":{\"color\":\"rgba(255,255,255,0)\"},\"showlegend\":false,\"visible\":true,\"x\":[-1,0,1,2,3,4,5,6,6,5,4,3,2,1,0,-1],\"y\":[1.7010166,1.7010166,1.7010166,1.7010166,1.7010166,1.7010166,1.7010166,1.7010166,1.4738634,1.4738634,1.4738634,1.4738634,1.4738634,1.4738634,1.4738634,1.4738634],\"type\":\"scatter\",\"xaxis\":\"x2\",\"yaxis\":\"y2\"},{\"fill\":\"toself\",\"fillcolor\":\"rgba(190, 77, 80, 0.15)\",\"hoverinfo\":\"skip\",\"line\":{\"color\":\"rgba(255,255,255,0)\"},\"showlegend\":false,\"visible\":true,\"x\":[-1,0,1,2,3,4,5,6,6,5,4,3,2,1,0,-1],\"y\":[46.740503600000004,46.740503600000004,46.740503600000004,46.740503600000004,46.740503600000004,46.740503600000004,46.740503600000004,46.740503600000004,45.473452,45.473452,45.473452,45.473452,45.473452,45.473452,45.473452,45.473452],\"type\":\"scatter\",\"xaxis\":\"x3\",\"yaxis\":\"y3\"},{\"fill\":\"toself\",\"fillcolor\":\"rgba(190, 77, 80, 0.15)\",\"hoverinfo\":\"skip\",\"line\":{\"color\":\"rgba(255,255,255,0)\"},\"showlegend\":false,\"visible\":true,\"x\":[-1,0,1,2,3,4,5,6,6,5,4,3,2,1,0,-1],\"y\":[1.7580885,1.7580885,1.7580885,1.7580885,1.7580885,1.7580885,1.7580885,1.7580885,1.5762359,1.5762359,1.5762359,1.5762359,1.5762359,1.5762359,1.5762359,1.5762359],\"type\":\"scatter\",\"xaxis\":\"x4\",\"yaxis\":\"y4\"}],                        {\"template\":{\"data\":{\"histogram2dcontour\":[{\"type\":\"histogram2dcontour\",\"colorbar\":{\"outlinewidth\":0,\"ticks\":\"\"},\"colorscale\":[[0.0,\"#0d0887\"],[0.1111111111111111,\"#46039f\"],[0.2222222222222222,\"#7201a8\"],[0.3333333333333333,\"#9c179e\"],[0.4444444444444444,\"#bd3786\"],[0.5555555555555556,\"#d8576b\"],[0.6666666666666666,\"#ed7953\"],[0.7777777777777778,\"#fb9f3a\"],[0.8888888888888888,\"#fdca26\"],[1.0,\"#f0f921\"]]}],\"choropleth\":[{\"type\":\"choropleth\",\"colorbar\":{\"outlinewidth\":0,\"ticks\":\"\"}}],\"histogram2d\":[{\"type\":\"histogram2d\",\"colorbar\":{\"outlinewidth\":0,\"ticks\":\"\"},\"colorscale\":[[0.0,\"#0d0887\"],[0.1111111111111111,\"#46039f\"],[0.2222222222222222,\"#7201a8\"],[0.3333333333333333,\"#9c179e\"],[0.4444444444444444,\"#bd3786\"],[0.5555555555555556,\"#d8576b\"],[0.6666666666666666,\"#ed7953\"],[0.7777777777777778,\"#fb9f3a\"],[0.8888888888888888,\"#fdca26\"],[1.0,\"#f0f921\"]]}],\"heatmap\":[{\"type\":\"heatmap\",\"colorbar\":{\"outlinewidth\":0,\"ticks\":\"\"},\"colorscale\":[[0.0,\"#0d0887\"],[0.1111111111111111,\"#46039f\"],[0.2222222222222222,\"#7201a8\"],[0.3333333333333333,\"#9c179e\"],[0.4444444444444444,\"#bd3786\"],[0.5555555555555556,\"#d8576b\"],[0.6666666666666666,\"#ed7953\"],[0.7777777777777778,\"#fb9f3a\"],[0.8888888888888888,\"#fdca26\"],[1.0,\"#f0f921\"]]}],\"heatmapgl\":[{\"type\":\"heatmapgl\",\"colorbar\":{\"outlinewidth\":0,\"ticks\":\"\"},\"colorscale\":[[0.0,\"#0d0887\"],[0.1111111111111111,\"#46039f\"],[0.2222222222222222,\"#7201a8\"],[0.3333333333333333,\"#9c179e\"],[0.4444444444444444,\"#bd3786\"],[0.5555555555555556,\"#d8576b\"],[0.6666666666666666,\"#ed7953\"],[0.7777777777777778,\"#fb9f3a\"],[0.8888888888888888,\"#fdca26\"],[1.0,\"#f0f921\"]]}],\"contourcarpet\":[{\"type\":\"contourcarpet\",\"colorbar\":{\"outlinewidth\":0,\"ticks\":\"\"}}],\"contour\":[{\"type\":\"contour\",\"colorbar\":{\"outlinewidth\":0,\"ticks\":\"\"},\"colorscale\":[[0.0,\"#0d0887\"],[0.1111111111111111,\"#46039f\"],[0.2222222222222222,\"#7201a8\"],[0.3333333333333333,\"#9c179e\"],[0.4444444444444444,\"#bd3786\"],[0.5555555555555556,\"#d8576b\"],[0.6666666666666666,\"#ed7953\"],[0.7777777777777778,\"#fb9f3a\"],[0.8888888888888888,\"#fdca26\"],[1.0,\"#f0f921\"]]}],\"surface\":[{\"type\":\"surface\",\"colorbar\":{\"outlinewidth\":0,\"ticks\":\"\"},\"colorscale\":[[0.0,\"#0d0887\"],[0.1111111111111111,\"#46039f\"],[0.2222222222222222,\"#7201a8\"],[0.3333333333333333,\"#9c179e\"],[0.4444444444444444,\"#bd3786\"],[0.5555555555555556,\"#d8576b\"],[0.6666666666666666,\"#ed7953\"],[0.7777777777777778,\"#fb9f3a\"],[0.8888888888888888,\"#fdca26\"],[1.0,\"#f0f921\"]]}],\"mesh3d\":[{\"type\":\"mesh3d\",\"colorbar\":{\"outlinewidth\":0,\"ticks\":\"\"}}],\"scatter\":[{\"fillpattern\":{\"fillmode\":\"overlay\",\"size\":10,\"solidity\":0.2},\"type\":\"scatter\"}],\"parcoords\":[{\"type\":\"parcoords\",\"line\":{\"colorbar\":{\"outlinewidth\":0,\"ticks\":\"\"}}}],\"scatterpolargl\":[{\"type\":\"scatterpolargl\",\"marker\":{\"colorbar\":{\"outlinewidth\":0,\"ticks\":\"\"}}}],\"bar\":[{\"error_x\":{\"color\":\"#2a3f5f\"},\"error_y\":{\"color\":\"#2a3f5f\"},\"marker\":{\"line\":{\"color\":\"#E5ECF6\",\"width\":0.5},\"pattern\":{\"fillmode\":\"overlay\",\"size\":10,\"solidity\":0.2}},\"type\":\"bar\"}],\"scattergeo\":[{\"type\":\"scattergeo\",\"marker\":{\"colorbar\":{\"outlinewidth\":0,\"ticks\":\"\"}}}],\"scatterpolar\":[{\"type\":\"scatterpolar\",\"marker\":{\"colorbar\":{\"outlinewidth\":0,\"ticks\":\"\"}}}],\"histogram\":[{\"marker\":{\"pattern\":{\"fillmode\":\"overlay\",\"size\":10,\"solidity\":0.2}},\"type\":\"histogram\"}],\"scattergl\":[{\"type\":\"scattergl\",\"marker\":{\"colorbar\":{\"outlinewidth\":0,\"ticks\":\"\"}}}],\"scatter3d\":[{\"type\":\"scatter3d\",\"line\":{\"colorbar\":{\"outlinewidth\":0,\"ticks\":\"\"}},\"marker\":{\"colorbar\":{\"outlinewidth\":0,\"ticks\":\"\"}}}],\"scattermapbox\":[{\"type\":\"scattermapbox\",\"marker\":{\"colorbar\":{\"outlinewidth\":0,\"ticks\":\"\"}}}],\"scatterternary\":[{\"type\":\"scatterternary\",\"marker\":{\"colorbar\":{\"outlinewidth\":0,\"ticks\":\"\"}}}],\"scattercarpet\":[{\"type\":\"scattercarpet\",\"marker\":{\"colorbar\":{\"outlinewidth\":0,\"ticks\":\"\"}}}],\"carpet\":[{\"aaxis\":{\"endlinecolor\":\"#2a3f5f\",\"gridcolor\":\"white\",\"linecolor\":\"white\",\"minorgridcolor\":\"white\",\"startlinecolor\":\"#2a3f5f\"},\"baxis\":{\"endlinecolor\":\"#2a3f5f\",\"gridcolor\":\"white\",\"linecolor\":\"white\",\"minorgridcolor\":\"white\",\"startlinecolor\":\"#2a3f5f\"},\"type\":\"carpet\"}],\"table\":[{\"cells\":{\"fill\":{\"color\":\"#EBF0F8\"},\"line\":{\"color\":\"white\"}},\"header\":{\"fill\":{\"color\":\"#C8D4E3\"},\"line\":{\"color\":\"white\"}},\"type\":\"table\"}],\"barpolar\":[{\"marker\":{\"line\":{\"color\":\"#E5ECF6\",\"width\":0.5},\"pattern\":{\"fillmode\":\"overlay\",\"size\":10,\"solidity\":0.2}},\"type\":\"barpolar\"}],\"pie\":[{\"automargin\":true,\"type\":\"pie\"}]},\"layout\":{\"autotypenumbers\":\"strict\",\"colorway\":[\"#636efa\",\"#EF553B\",\"#00cc96\",\"#ab63fa\",\"#FFA15A\",\"#19d3f3\",\"#FF6692\",\"#B6E880\",\"#FF97FF\",\"#FECB52\"],\"font\":{\"color\":\"#2a3f5f\"},\"hovermode\":\"closest\",\"hoverlabel\":{\"align\":\"left\"},\"paper_bgcolor\":\"white\",\"plot_bgcolor\":\"#E5ECF6\",\"polar\":{\"bgcolor\":\"#E5ECF6\",\"angularaxis\":{\"gridcolor\":\"white\",\"linecolor\":\"white\",\"ticks\":\"\"},\"radialaxis\":{\"gridcolor\":\"white\",\"linecolor\":\"white\",\"ticks\":\"\"}},\"ternary\":{\"bgcolor\":\"#E5ECF6\",\"aaxis\":{\"gridcolor\":\"white\",\"linecolor\":\"white\",\"ticks\":\"\"},\"baxis\":{\"gridcolor\":\"white\",\"linecolor\":\"white\",\"ticks\":\"\"},\"caxis\":{\"gridcolor\":\"white\",\"linecolor\":\"white\",\"ticks\":\"\"}},\"coloraxis\":{\"colorbar\":{\"outlinewidth\":0,\"ticks\":\"\"}},\"colorscale\":{\"sequential\":[[0.0,\"#0d0887\"],[0.1111111111111111,\"#46039f\"],[0.2222222222222222,\"#7201a8\"],[0.3333333333333333,\"#9c179e\"],[0.4444444444444444,\"#bd3786\"],[0.5555555555555556,\"#d8576b\"],[0.6666666666666666,\"#ed7953\"],[0.7777777777777778,\"#fb9f3a\"],[0.8888888888888888,\"#fdca26\"],[1.0,\"#f0f921\"]],\"sequentialminus\":[[0.0,\"#0d0887\"],[0.1111111111111111,\"#46039f\"],[0.2222222222222222,\"#7201a8\"],[0.3333333333333333,\"#9c179e\"],[0.4444444444444444,\"#bd3786\"],[0.5555555555555556,\"#d8576b\"],[0.6666666666666666,\"#ed7953\"],[0.7777777777777778,\"#fb9f3a\"],[0.8888888888888888,\"#fdca26\"],[1.0,\"#f0f921\"]],\"diverging\":[[0,\"#8e0152\"],[0.1,\"#c51b7d\"],[0.2,\"#de77ae\"],[0.3,\"#f1b6da\"],[0.4,\"#fde0ef\"],[0.5,\"#f7f7f7\"],[0.6,\"#e6f5d0\"],[0.7,\"#b8e186\"],[0.8,\"#7fbc41\"],[0.9,\"#4d9221\"],[1,\"#276419\"]]},\"xaxis\":{\"gridcolor\":\"white\",\"linecolor\":\"white\",\"ticks\":\"\",\"title\":{\"standoff\":15},\"zerolinecolor\":\"white\",\"automargin\":true,\"zerolinewidth\":2},\"yaxis\":{\"gridcolor\":\"white\",\"linecolor\":\"white\",\"ticks\":\"\",\"title\":{\"standoff\":15},\"zerolinecolor\":\"white\",\"automargin\":true,\"zerolinewidth\":2},\"scene\":{\"xaxis\":{\"backgroundcolor\":\"#E5ECF6\",\"gridcolor\":\"white\",\"linecolor\":\"white\",\"showbackground\":true,\"ticks\":\"\",\"zerolinecolor\":\"white\",\"gridwidth\":2},\"yaxis\":{\"backgroundcolor\":\"#E5ECF6\",\"gridcolor\":\"white\",\"linecolor\":\"white\",\"showbackground\":true,\"ticks\":\"\",\"zerolinecolor\":\"white\",\"gridwidth\":2},\"zaxis\":{\"backgroundcolor\":\"#E5ECF6\",\"gridcolor\":\"white\",\"linecolor\":\"white\",\"showbackground\":true,\"ticks\":\"\",\"zerolinecolor\":\"white\",\"gridwidth\":2}},\"shapedefaults\":{\"line\":{\"color\":\"#2a3f5f\"}},\"annotationdefaults\":{\"arrowcolor\":\"#2a3f5f\",\"arrowhead\":0,\"arrowwidth\":1},\"geo\":{\"bgcolor\":\"white\",\"landcolor\":\"#E5ECF6\",\"subunitcolor\":\"white\",\"showland\":true,\"showlakes\":true,\"lakecolor\":\"white\"},\"title\":{\"x\":0.05},\"mapbox\":{\"style\":\"light\"}}},\"xaxis\":{\"anchor\":\"y\",\"domain\":[0.0,0.46],\"tickfont\":{\"size\":22},\"type\":\"linear\",\"linecolor\":\"black\",\"linewidth\":2,\"range\":[-0.45,5.45],\"mirror\":true,\"ticks\":\"outside\",\"showline\":true,\"tickvals\":[0,1,2,3,4,5],\"ticktext\":[\"Subject 1\",\"Subject 2\",\"Subject 3\",\"Subject 4\",\"Subject 5\",\"Subject 6\"]},\"yaxis\":{\"anchor\":\"x\",\"domain\":[0.575,1.0],\"title\":{\"text\":\"T<sub>1</sub> [s]\",\"standoff\":0},\"type\":\"linear\",\"showgrid\":false,\"linecolor\":\"black\",\"linewidth\":2,\"range\":[0.702975,1.6706850000000002]},\"xaxis2\":{\"anchor\":\"y2\",\"domain\":[0.54,1.0],\"tickfont\":{\"size\":22},\"type\":\"linear\",\"showgrid\":false,\"linecolor\":\"black\",\"linewidth\":2,\"range\":[-0.45,5.45],\"mirror\":true,\"ticks\":\"outside\",\"showline\":true,\"tickvals\":[0,1,2,3,4,5],\"ticktext\":[\"Subject 1\",\"Subject 2\",\"Subject 3\",\"Subject 4\",\"Subject 5\",\"Subject 6\"]},\"yaxis2\":{\"anchor\":\"x2\",\"domain\":[0.575,1.0],\"title\":{\"text\":\"T<sub>1</sub> [s]\",\"standoff\":0},\"type\":\"linear\",\"showgrid\":false,\"linecolor\":\"black\",\"linewidth\":2,\"range\":[0.6595875,1.9791225000000001]},\"xaxis3\":{\"anchor\":\"y3\",\"domain\":[0.0,0.46],\"tickfont\":{\"size\":22},\"type\":\"linear\",\"showgrid\":false,\"linecolor\":\"black\",\"linewidth\":2,\"range\":[-0.45,5.45],\"mirror\":true,\"ticks\":\"outside\",\"showline\":true,\"tickvals\":[0,1,2,3,4,5],\"ticktext\":[\"Subject 1\",\"Subject 2\",\"Subject 3\",\"Subject 4\",\"Subject 5\",\"Subject 6\"]},\"yaxis3\":{\"anchor\":\"x3\",\"domain\":[0.0,0.425],\"title\":{\"text\":\"T<sub>1</sub> [s]\",\"standoff\":0},\"type\":\"linear\",\"showgrid\":false,\"linecolor\":\"black\",\"linewidth\":2,\"range\":[41.562974999999994,58.258725000000005]},\"xaxis4\":{\"anchor\":\"y4\",\"domain\":[0.54,1.0],\"tickfont\":{\"size\":22},\"type\":\"linear\",\"showgrid\":false,\"linecolor\":\"black\",\"linewidth\":2,\"range\":[-0.45,5.45],\"mirror\":true,\"ticks\":\"outside\",\"showline\":true,\"tickvals\":[0,1,2,3,4,5],\"ticktext\":[\"Subject 1\",\"Subject 2\",\"Subject 3\",\"Subject 4\",\"Subject 5\",\"Subject 6\"]},\"yaxis4\":{\"anchor\":\"x4\",\"domain\":[0.0,0.425],\"title\":{\"text\":\"T<sub>1</sub> [s]\",\"standoff\":0},\"type\":\"linear\",\"showgrid\":false,\"linecolor\":\"black\",\"linewidth\":2,\"range\":[0.7835249999999999,4.494975]},\"margin\":{\"l\":30,\"r\":30,\"t\":10,\"b\":30},\"paper_bgcolor\":\"rgb(255, 255, 255)\",\"plot_bgcolor\":\"rgb(255, 255, 255)\",\"legend\":{\"title\":{\"text\":\"\"}},\"height\":900,\"width\":900},                        {\"responsive\": true}                    ).then(function(){\n",
       "                            \n",
       "var gd = document.getElementById('925b6273-a2a4-4b2b-89fb-304df912fb57');\n",
       "var x = new MutationObserver(function (mutations, observer) {{\n",
       "        var display = window.getComputedStyle(gd).display;\n",
       "        if (!display || display === 'none') {{\n",
       "            console.log([gd, 'removed!']);\n",
       "            Plotly.purge(gd);\n",
       "            observer.disconnect();\n",
       "        }}\n",
       "}});\n",
       "\n",
       "// Listen for the removal of the full notebook cells\n",
       "var notebookContainer = gd.closest('#notebook-container');\n",
       "if (notebookContainer) {{\n",
       "    x.observe(notebookContainer, {childList: true});\n",
       "}}\n",
       "\n",
       "// Listen for the clearing of the current output cell\n",
       "var outputEl = gd.closest('.output');\n",
       "if (outputEl) {{\n",
       "    x.observe(outputEl, {childList: true});\n",
       "}}\n",
       "\n",
       "                        })                };                });            </script>        </div>"
      ]
     },
     "metadata": {},
     "output_type": "display_data"
    }
   ],
   "source": [
    "# If you're running this notebook in a Jupyter Notebook (eg, on MyBinder), change 'jupyter-book' to 'notebook'\n",
    "\n",
    "\n",
    "fig.display_paper_fig2('notebook')"
   ]
  }
 ],
 "metadata": {
  "kernelspec": {
   "display_name": "base",
   "language": "python",
   "name": "python3"
  },
  "language_info": {
   "codemirror_mode": {
    "name": "ipython",
    "version": 3
   },
   "file_extension": ".py",
   "mimetype": "text/x-python",
   "name": "python",
   "nbconvert_exporter": "python",
   "pygments_lexer": "ipython3",
   "version": "3.9.13"
  },
  "orig_nbformat": 4
 },
 "nbformat": 4,
 "nbformat_minor": 2
}
